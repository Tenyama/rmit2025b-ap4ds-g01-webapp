{
 "cells": [
  {
   "cell_type": "markdown",
   "metadata": {},
   "source": [
    "# **Assignment 3: Milestone I | Natural Language Processing**\n",
    "## **Task 2 & 3. Generating Feature Representations & Classifying Clothing Reviews**\n",
    "\n",
    "**Group 01:**\n",
    "- Tran Tu Tam (s3999159)\n",
    "- Phan Nhat Minh (s3978598)\n",
    "- Le Thien Son (s3977955)\n",
    "\n",
    "**Environment**: \n",
    "\n",
    "To ensure full reproducibility, the Python environment used in this assignment is managed with **conda**. We worked with **Python 3.10** on **conda 25.7.0** inside Jupyter Notebook.  \n",
    "\n",
    "The exact environment can be recreated by running the following command with the provided `environment.yaml` file:\n",
    "\n",
    "```bash\n",
    "conda env create -f environment.yaml\n",
    "```\n",
    "\n",
    "After creating the environment, activate it with:\n",
    "\n",
    "```bash\n",
    "conda activate ap4ds-a3\n",
    "```\n",
    "\n",
    "**Libraries used**: \n",
    "* re, collections.Counter\n",
    "* numpy, pandas, scipy\n",
    "* matplotlib, seaborn\n",
    "* gensim (KeyedVectors, downloader API)\n",
    "* scikit-learn (model_selection, pipeline, preprocessing, feature_extraction, metrics, classifiers)\n",
    "* imbalanced-learn (SMOTE, Pipeline)"
   ]
  },
  {
   "cell_type": "markdown",
   "metadata": {},
   "source": [
    "## Introduction\n",
    "\n",
    "In this notebook, we continue from the preprocessing work in **Task 1** and focus on two main goals:  \n",
    "\n",
    "- **Task 2: Generating Feature Representations**  \n",
    "  We transform the cleaned clothing reviews into numerical formats suitable for machine learning.  \n",
    "  Three types of representations are built:  \n",
    "  - **Bag-of-Words (BoW)** using the fixed vocabulary from Task 1  \n",
    "  - **Unweighted embeddings** (FastText average vectors)  \n",
    "  - **TF-IDF weighted embeddings** (FastText weighted by IDF scores)  \n",
    "  Along the way, we check coverage of the embedding model, inspect out-of-vocabulary cases, and save the representations for downstream tasks.  \n",
    "\n",
    "- **Task 3: Clothing Review Classification**  \n",
    "  Using the generated features, we train and evaluate multiple classifiers to predict whether a clothing item is **recommended** or not (`Recommended IND`).  \n",
    "  - **Question 1:** Which representation (BoW vs embeddings) works best?  \n",
    "  - **Question 2:** Does adding the **Title** of reviews improve performance compared to Text alone?  \n",
    "\n",
    "For both questions, we use **cross-validation** with multiple metrics (Accuracy, F1, ROC-AUC, Balanced Accuracy) to account for class imbalance.  \n",
    "We also experiment with **SMOTE oversampling** vs **class weighting** to handle imbalance in the target labels.  "
   ]
  },
  {
   "cell_type": "markdown",
   "metadata": {},
   "source": [
    "## Importing Libraries "
   ]
  },
  {
   "cell_type": "code",
   "execution_count": 1,
   "metadata": {},
   "outputs": [],
   "source": [
    "# Standard Library\n",
    "import re\n",
    "from collections import Counter\n",
    "\n",
    "# Third-Party Libraries\n",
    "import numpy as np\n",
    "import pandas as pd\n",
    "from scipy import sparse\n",
    "import matplotlib.pyplot as plt\n",
    "import seaborn as sns\n",
    "\n",
    "\n",
    "# Machine Learning (Scikit-learn)\n",
    "from sklearn.model_selection import StratifiedKFold, cross_validate\n",
    "from sklearn.pipeline import Pipeline\n",
    "from sklearn.preprocessing import StandardScaler\n",
    "from sklearn.feature_extraction.text import CountVectorizer, TfidfVectorizer\n",
    "from sklearn.metrics import make_scorer, f1_score, roc_auc_score, accuracy_score, balanced_accuracy_score\n",
    "from sklearn.dummy import DummyClassifier\n",
    "\n",
    "# Classifiers\n",
    "from sklearn.linear_model import LogisticRegression\n",
    "from sklearn.svm import LinearSVC\n",
    "from sklearn.naive_bayes import MultinomialNB\n",
    "from sklearn.ensemble import RandomForestClassifier, HistGradientBoostingClassifier\n",
    "from sklearn.neural_network import MLPClassifier\n",
    "\n",
    "# Imbalanced Data Handling\n",
    "from imblearn.over_sampling import SMOTE\n",
    "from imblearn.pipeline import Pipeline as ImbPipeline\n",
    "\n",
    "import warnings\n",
    "from sklearn.exceptions import ConvergenceWarning\n",
    "\n",
    "# Ignore only ConvergenceWarning from sklearn\n",
    "warnings.filterwarnings(\"ignore\", category=ConvergenceWarning)\n",
    "# (optional) also suppress generic UserWarning if needed\n",
    "warnings.filterwarnings(\"ignore\", category=UserWarning)"
   ]
  },
  {
   "cell_type": "markdown",
   "metadata": {},
   "source": [
    "## Task 2. Generating Feature Representations for Clothing Reviews\n",
    "\n",
    "With preprocessing done in Task 1, the next step is to turn the cleaned reviews into numerical features.  \n",
    "These representations let us feed the text into machine learning models later in Task 3."
   ]
  },
  {
   "cell_type": "markdown",
   "metadata": {},
   "source": [
    "### 2.1 Load Processed Data\n",
    "\n",
    "To begin, we load the cleaned dataset from Task 1 (`processed.csv`).  \n",
    "This file includes the tokenized and filtered reviews, and for this step we focus on the `Review Text` column.  \n",
    "\n",
    "We then convert these reviews into a list of strings so they can be used directly when creating the different feature representations in Task 2."
   ]
  },
  {
   "cell_type": "code",
   "execution_count": 2,
   "metadata": {},
   "outputs": [
    {
     "name": "stdout",
     "output_type": "stream",
     "text": [
      "Head of processed reviews:\n",
      "[\"['high', 'hope', 'wanted', 'work', 'initially', 'petite', 'usual', 'found', 'outrageously', 'fact', 'zip', 'reordered', 'petite', 'medium', 'half', 'nicely', 'bottom', 'half', 'tight', 'layer', 'cheap', 'net', 'layer', 'imo', 'major', 'design', 'flaw', 'net', 'layer', 'sewn', 'directly', 'zipper']\", \"['jumpsuit', 'fun', 'flirty', 'fabulous', 'time', 'compliment']\", \"['shirt', 'due', 'adjustable', 'front', 'tie', 'length', 'legging', 'sleeveless', 'pair', 'cardigan', 'shirt']\", \"['tracy', 'reese', 'dress', 'petite', 'foot', 'tall', 'brand', 'pretty', 'package', 'lot', 'skirt', 'long', 'full', 'overwhelmed', 'frame', 'stranger', 'alteration', 'shortening', 'skirt', 'embellishment', 'garment', 'idea', 'style', 'work', 'returned']\", \"['basket', 'hte', 'person', 'store', 'pick', 'teh', 'pale', 'hte', 'gorgeous', 'turn', 'perfectly', 'baggy', 'hte', 'x', 'hte', 'bummer', 'petite', 'decided', 'jeans', 'pant', 'skirt', 'oops']\"]\n"
     ]
    }
   ],
   "source": [
    "# Load the processed dataset from Task 1\n",
    "df = pd.read_csv(\"../output/processed.csv\")\n",
    "\n",
    "# Keep only non-empty processed token lists\n",
    "df = df[df[\"tokens_typo_fixed\"].str.strip().astype(bool)]\n",
    "\n",
    "# Convert the cleaned tokens back into review strings (space-joined)\n",
    "reviews = df[\"tokens_typo_fixed\"].astype(str).tolist()\n",
    "\n",
    "print(\"Head of processed reviews:\")\n",
    "print(reviews[:5])"
   ]
  },
  {
   "cell_type": "code",
   "execution_count": 3,
   "metadata": {},
   "outputs": [
    {
     "data": {
      "text/plain": [
       "(19652, 14)"
      ]
     },
     "execution_count": 3,
     "metadata": {},
     "output_type": "execute_result"
    }
   ],
   "source": [
    "df.shape"
   ]
  },
  {
   "cell_type": "markdown",
   "metadata": {},
   "source": [
    "Next, we load the vocabulary file created in Task 1.  \n",
    "\n",
    "The file `vocab.txt` contains all valid tokens from the processed reviews, each mapped to a unique integer index. This mapping is important because it keeps our feature representations in Task 2 aligned to a **consistent and reproducible index space**.  \n",
    "\n",
    "We read the file line by line, split each entry into the token and its index, and store them in a Python dictionary called `vocab`. This dictionary will be our reference point for building bag-of-words vectors and other feature encodings."
   ]
  },
  {
   "cell_type": "code",
   "execution_count": 4,
   "metadata": {},
   "outputs": [
    {
     "name": "stdout",
     "output_type": "stream",
     "text": [
      "\n",
      "Head of vocab:\n",
      "a-cup: 0\n",
      "a-flutter: 1\n",
      "a-frame: 2\n",
      "a-kind: 3\n",
      "a-line: 4\n"
     ]
    }
   ],
   "source": [
    "with open(\"../output/vocab.txt\", \"r\") as f:\n",
    "    vocab_lines = f.readlines()\n",
    "\n",
    "vocab = {line.split(\":\")[0]: int(line.strip().split(\":\")[1]) for line in vocab_lines}\n",
    "\n",
    "print(\"\\nHead of vocab:\")\n",
    "for i, (word, idx) in enumerate(vocab.items()):\n",
    "    if i >= 5:\n",
    "        break\n",
    "    print(f\"{word}: {idx}\")"
   ]
  },
  {
   "cell_type": "markdown",
   "metadata": {},
   "source": [
    "### 2.2 Bag-of-Words Model: Count Vector Representation\n",
    "\n",
    "We start by generating the **bag-of-words (BoW) representation** for each review. This approach converts each review into a sparse vector where:  \n",
    "- The **index** corresponds to a token from the vocabulary created in Task 1.  \n",
    "- The **value** shows how many times that token appears in the review.  "
   ]
  },
  {
   "cell_type": "code",
   "execution_count": 5,
   "metadata": {},
   "outputs": [],
   "source": [
    "# Build CountVectorizer using fixed vocab\n",
    "vectorizer = CountVectorizer(vocabulary=vocab)\n",
    "X_counts = vectorizer.fit_transform(reviews)"
   ]
  },
  {
   "cell_type": "markdown",
   "metadata": {},
   "source": [
    "### 2.3 Load FastText Word Vectors\n",
    "\n",
    "For the embedding model, we use **FastText** from `gensim`’s API (`fasttext-wiki-news-subwords-300`).  \n",
    "This pre-trained model maps each word into a 300-dimensional vector and can handle **out-of-vocabulary (OOV)** words by using subword information. That makes it especially useful for messy, user-generated reviews where typos and rare words are common.  \n",
    "\n",
    "Once loaded, we confirm the embedding dimension and use these vectors to build:  \n",
    "- **Unweighted document vectors** (average of word embeddings).  \n",
    "- **Weighted document vectors** (TF-IDF weighted average).  \n",
    "\n",
    "These representations will feed into our classification models in Task 3."
   ]
  },
  {
   "cell_type": "code",
   "execution_count": 6,
   "metadata": {},
   "outputs": [],
   "source": [
    "import io\n",
    "\n",
    "def load_vectors(fname):\n",
    "    fin = io.open(fname, 'r', encoding='utf-8', newline='\\n', errors='ignore')\n",
    "    n, d = map(int, fin.readline().split())  # n = vocab size, d = embedding dim\n",
    "    data = {}\n",
    "    for line in fin:\n",
    "        tokens = line.rstrip().split(' ')\n",
    "        word = tokens[0]\n",
    "        vec = list(map(float, tokens[1:]))\n",
    "        data[word] = vec\n",
    "    return data, n, d\n",
    "\n",
    "# # Download FastText model from gensim\n",
    "# print(\"Loading FastText model from gensim... (This may take a few minutes on the first run)\")\n",
    "# ft_model = api.load('fasttext-wiki-news-subwords-300')"
   ]
  },
  {
   "cell_type": "code",
   "execution_count": null,
   "metadata": {},
   "outputs": [],
   "source": [
    "ft_model, vocab_size, dim = load_vectors(\"../data/wiki-news-300d-1M.vec\")"
   ]
  },
  {
   "cell_type": "code",
   "execution_count": 8,
   "metadata": {},
   "outputs": [
    {
     "ename": "NameError",
     "evalue": "name 'vocab_size' is not defined",
     "output_type": "error",
     "traceback": [
      "\u001b[31m---------------------------------------------------------------------------\u001b[39m",
      "\u001b[31mNameError\u001b[39m                                 Traceback (most recent call last)",
      "\u001b[36mCell\u001b[39m\u001b[36m \u001b[39m\u001b[32mIn[8]\u001b[39m\u001b[32m, line 1\u001b[39m\n\u001b[32m----> \u001b[39m\u001b[32m1\u001b[39m \u001b[38;5;28mprint\u001b[39m(\u001b[33m\"\u001b[39m\u001b[33mVocab size:\u001b[39m\u001b[33m\"\u001b[39m, \u001b[43mvocab_size\u001b[49m)   \u001b[38;5;66;03m# ~1,000,000\u001b[39;00m\n\u001b[32m      2\u001b[39m \u001b[38;5;28mprint\u001b[39m(\u001b[33m\"\u001b[39m\u001b[33mEmbedding dim:\u001b[39m\u001b[33m\"\u001b[39m, dim)       \u001b[38;5;66;03m# 300\u001b[39;00m\n\u001b[32m      3\u001b[39m \u001b[38;5;28mprint\u001b[39m(\u001b[33m\"\u001b[39m\u001b[33mVector length check:\u001b[39m\u001b[33m\"\u001b[39m, \u001b[38;5;28mlen\u001b[39m(ft_model[\u001b[33m\"\u001b[39m\u001b[33mcomputer\u001b[39m\u001b[33m\"\u001b[39m]))\n",
      "\u001b[31mNameError\u001b[39m: name 'vocab_size' is not defined"
     ]
    }
   ],
   "source": [
    "print(\"Vocab size:\", vocab_size)   # ~1,000,000\n",
    "print(\"Embedding dim:\", dim)       # 300\n",
    "print(\"Vector length check:\", len(ft_model[\"computer\"]))  # 300"
   ]
  },
  {
   "cell_type": "markdown",
   "metadata": {},
   "source": [
    "### 2.4 Tokenization Consistency\n",
    "\n",
    "To make sure our feature extraction is accurate, we re-tokenize the reviews into word lists before applying Bag-of-Words or embedding methods.  \n",
    "We use the **same regex pattern** from Task 1 so that the tokens stay consistent with the vocabulary and preprocessing already applied.  \n",
    "This step ensures that every feature representation aligns with the cleaned dataset.  "
   ]
  },
  {
   "cell_type": "code",
   "execution_count": null,
   "metadata": {},
   "outputs": [],
   "source": [
    "tokenizer = re.compile(r\"[a-zA-Z]+(?:[-'][a-zA-Z]+)?\") \n",
    "\n",
    "def tokenize(text): \n",
    "    tokens = tokenizer.findall(text.lower()) \n",
    "    clean_tokens = [t.strip(\"-'\") for t in tokens] # remove trailing punctuation if needed \n",
    "    return clean_tokens "
   ]
  },
  {
   "cell_type": "code",
   "execution_count": null,
   "metadata": {},
   "outputs": [],
   "source": [
    "tokenized_reviews = [tokenize(r) for r in reviews] "
   ]
  },
  {
   "cell_type": "markdown",
   "metadata": {},
   "source": [
    "### 2.5 OOV Diagnostics\n",
    "\n",
    "We checked how well the FastText model covers our dataset vocabulary by calculating the out-of-vocabulary (OOV) rate.  "
   ]
  },
  {
   "cell_type": "code",
   "execution_count": null,
   "metadata": {},
   "outputs": [],
   "source": [
    "def compute_coverage(token_lists, model):\n",
    "    total = sum(len(toks) for toks in token_lists)\n",
    "    known = sum(sum(1 for tok in toks if tok in model) for toks in token_lists)\n",
    "    return {\n",
    "        \"total_tokens\": total,\n",
    "        \"covered_tokens\": known,\n",
    "        \"coverage_pct\": round(100 * known / total, 2)\n",
    "    }\n",
    "\n",
    "coverage = compute_coverage(tokenized_reviews, ft_model)\n",
    "print(\"FastText OOV Coverage:\", coverage)"
   ]
  },
  {
   "cell_type": "markdown",
   "metadata": {},
   "source": [
    "The model covers **99.37%** of all tokens, leaving only **0.63%** unmatched.  \n",
    "This high coverage suggests FastText handles our reviews very well. Still, we take a closer look at the OOV cases to confirm they won’t affect downstream results in a meaningful way."
   ]
  },
  {
   "cell_type": "code",
   "execution_count": null,
   "metadata": {},
   "outputs": [],
   "source": [
    "missing = Counter( \n",
    "    tok \n",
    "    for review in tokenized_reviews \n",
    "    for tok in review \n",
    "    if tok not in ft_model \n",
    ") \n",
    "\n",
    "print(\"Top OOV tokens:\", missing.most_common(10))\n",
    "print(\"All missing tokens:\")\n",
    "for token, count in missing.items():\n",
    "    print(f\"{token}: {count}\")"
   ]
  },
  {
   "cell_type": "markdown",
   "metadata": {},
   "source": [
    "Upon reviewing the missing tokens, we found that most are either **misspellings/variants** (e.g., `swtr`, `flowey`) or **tokens with apostrophes** (e.g., `\"would've\"`, `\"model's\"`), which FastText doesn’t always match directly.  \n",
    "\n",
    "Since the OOV rate is very low and the unmatched tokens are not critical, we decided not to apply extra corrections or manual filtering. The model already provides strong coverage, making it reliable enough for embedding generation as is."
   ]
  },
  {
   "cell_type": "markdown",
   "metadata": {},
   "source": [
    "### 2.6 Generate Unweighted FastText Embedding\n",
    "\n",
    "Our first embedding-based representation is the **unweighted average of word vectors**.  \n",
    "In this approach, each review is turned into a single vector by averaging the embeddings of its tokens:  \n",
    "\n",
    "- For each token, we check if it exists in the FastText model.  \n",
    "- If it does, we collect its 300-dimensional vector.  \n",
    "- We then take the simple average of all vectors in that review.  \n",
    "- If a review has no known tokens, we assign a zero vector of the same dimension.  "
   ]
  },
  {
   "cell_type": "code",
   "execution_count": null,
   "metadata": {},
   "outputs": [],
   "source": [
    "def avg_embedding(tokens, model):\n",
    "    vectors = [model[w] for w in tokens if w in model]\n",
    "    if not vectors:\n",
    "        return np.zeros(model.vector_size)\n",
    "    return np.mean(vectors, axis=0)\n",
    "\n",
    "unweighted_embeds = np.array([avg_embedding(tokens, ft_model) for tokens in tokenized_reviews])"
   ]
  },
  {
   "cell_type": "markdown",
   "metadata": {},
   "source": [
    "This gives us one fixed-size vector per review, offering a simple way to capture the overall semantic meaning of the text without applying any weighting.  \n",
    "\n",
    "To verify the output, we preview the first few embedding values from a sample review using FastText.  "
   ]
  },
  {
   "cell_type": "code",
   "execution_count": null,
   "metadata": {},
   "outputs": [],
   "source": [
    "def validator_token_embeddings(tokens, ft_model, dims=5, limit=5):\n",
    "    print(f\"FastText token-wise vectors (first {dims} dims, showing up to {limit} tokens):\\n\")\n",
    "    shown = 0\n",
    "    for token in tokens:\n",
    "        if token in ft_model:\n",
    "            vec = ft_model[token][:dims]\n",
    "            rounded = [f\"{v:.4f}\" for v in vec]\n",
    "            print(f\"{token}: [{', '.join(rounded)}]\")\n",
    "            shown += 1\n",
    "        else:\n",
    "            print(f\"{token}: [OOV]\")\n",
    "            shown += 1\n",
    "        if shown >= limit:\n",
    "            break\n",
    "\n",
    "test_idx = 42\n",
    "validator_token_embeddings(tokenized_reviews[test_idx], ft_model, dims=8, limit=5)\n"
   ]
  },
  {
   "cell_type": "markdown",
   "metadata": {},
   "source": [
    "Below is a sample output from review index 42, showing the first 8 dimensions of 5 token vectors.  \n",
    "All selected tokens are successfully recognized and mapped to meaningful embeddings.  \n",
    "\n",
    "This confirms that the embeddings are being computed as expected. With this validation, we can now move on to the next step.  "
   ]
  },
  {
   "cell_type": "markdown",
   "metadata": {},
   "source": [
    "### 2.7 Generate TF-IDF Weighted FastText Embedding\n",
    "\n",
    "We now improve on the simple averaging method by applying **TF-IDF weighting** to the word embeddings.  \n",
    "This gives more importance to informative words while downplaying very common ones.  \n",
    "\n",
    "Concept Overview:  \n",
    "- Compute TF-IDF values for all tokens using the vocabulary from Task 1.  \n",
    "- For each review, retrieve FastText embeddings for tokens that exist in both the model and TF-IDF dictionary.  \n",
    "- Scale each word vector by its TF-IDF weight.  \n",
    "- Take the weighted average of these vectors to form the final review embedding.  \n",
    "- If a review has no matching tokens, assign a zero vector of the same dimension."
   ]
  },
  {
   "cell_type": "code",
   "execution_count": null,
   "metadata": {},
   "outputs": [],
   "source": [
    "# Use same vocab as before\n",
    "tfidf_vectorizer = TfidfVectorizer(vocabulary=vocab)\n",
    "X_tfidf = tfidf_vectorizer.fit_transform(reviews)\n",
    "idf_weights = dict(zip(tfidf_vectorizer.get_feature_names_out(), tfidf_vectorizer.idf_))\n",
    "\n",
    "def tfidf_weighted_embedding(tokens, model, idf_dict):\n",
    "    vectors = []\n",
    "    weights = []\n",
    "    for token in tokens:\n",
    "        if token in model and token in idf_dict:\n",
    "            vectors.append(model[token] * idf_dict[token])\n",
    "            weights.append(idf_dict[token])\n",
    "    if not vectors:\n",
    "        return np.zeros(model.vector_size)\n",
    "    return np.sum(vectors, axis=0) / np.sum(weights)\n",
    "\n",
    "weighted_embeds = np.array([\n",
    "    tfidf_weighted_embedding(tokens, ft_model, idf_weights)\n",
    "    for tokens in tokenized_reviews\n",
    "])"
   ]
  },
  {
   "cell_type": "markdown",
   "metadata": {},
   "source": [
    "This weighted representation captures both the semantic meaning of words and their relative importance across the reviews, making it a stronger candidate for classification.  \n",
    "\n",
    "To validate the output, we preview a few token embeddings alongside their corresponding TF-IDF weights."
   ]
  },
  {
   "cell_type": "code",
   "execution_count": null,
   "metadata": {},
   "outputs": [],
   "source": [
    "def validator_weighted_tokens(tokens, model, idf_dict, dims=5, limit=5):\n",
    "    print(f\"TF-IDF Weighted token-wise vectors (first {dims} dims, up to {limit} tokens):\\n\")\n",
    "    shown = 0\n",
    "    for token in tokens:\n",
    "        if token in model and token in idf_dict:\n",
    "            vec = model[token] * idf_dict[token]\n",
    "            rounded = [f\"{v:.4f}\" for v in vec[:dims]]\n",
    "            print(f\"{token}: [{', '.join(rounded)}]  (weight: {idf_dict[token]:.4f})\")\n",
    "            shown += 1\n",
    "        elif token in model:\n",
    "            print(f\"{token}: [valid token, missing IDF]\")\n",
    "            shown += 1\n",
    "        else:\n",
    "            print(f\"{token}: [OOV]\")\n",
    "            shown += 1\n",
    "        if shown >= limit:\n",
    "            break\n",
    "\n",
    "test_idx = 42\n",
    "validator_weighted_tokens(tokenized_reviews[test_idx], ft_model, idf_weights, dims=8, limit=5)"
   ]
  },
  {
   "cell_type": "markdown",
   "metadata": {},
   "source": [
    "After reviewing the output, the embeddings appear to be correctly computed. We will now proceed to the next step."
   ]
  },
  {
   "cell_type": "markdown",
   "metadata": {},
   "source": [
    "### 2.8 Save Outputs\n",
    "\n",
    "After generating the three types of document-level representations, we save them in the required output formats.  \n",
    "Each line in these files corresponds to a single review, starting with `#index` followed by the feature values separated by commas.  "
   ]
  },
  {
   "cell_type": "markdown",
   "metadata": {},
   "source": [
    "#### 1. Bag-of-Words\n",
    "\n",
    "- Saves the sparse Bag-of-Words representation to `count_vectors.txt`  \n",
    "- Format: `#reviewIndex,tokenIndex1:count1,tokenIndex2:count2,...`  "
   ]
  },
  {
   "cell_type": "code",
   "execution_count": null,
   "metadata": {},
   "outputs": [],
   "source": [
    "# Save sparse BoW counts\n",
    "with open(\"../output/count_vectors.txt\", \"w\") as f:\n",
    "    for i, row in enumerate(X_counts):\n",
    "        entries = [\n",
    "            f\"{idx}:{val}\"\n",
    "            for idx, val in zip(row.indices, row.data)\n",
    "        ]\n",
    "        f.write(f\"#\" + str(i) + \",\" + \",\".join(entries) + \"\\n\")"
   ]
  },
  {
   "cell_type": "markdown",
   "metadata": {},
   "source": [
    "#### 2. Unweighted Embeddings  \n",
    "\n",
    "- Saves the average FastText embeddings to `unweighted_vectors.txt`  \n",
    "- Format: `#reviewIndex,val1,val2,...,val300`  "
   ]
  },
  {
   "cell_type": "code",
   "execution_count": null,
   "metadata": {},
   "outputs": [],
   "source": [
    "# Save unweighted FastText embeddings\n",
    "with open(\"../output/unweighted_vectors.txt\", \"w\") as f:\n",
    "    for i, vec in enumerate(unweighted_embeds):\n",
    "        vec_str = \",\".join(map(str, vec))\n",
    "        f.write(f\"#{i},{vec_str}\\n\")"
   ]
  },
  {
   "cell_type": "markdown",
   "metadata": {},
   "source": [
    "#### 3. Weighted Embeddings  \n",
    "\n",
    "- Saves the TF-IDF weighted FastText embeddings to `weighted_vectors.txt`  \n",
    "- Format: `#reviewIndex,val1,val2,...,val300`  "
   ]
  },
  {
   "cell_type": "code",
   "execution_count": null,
   "metadata": {},
   "outputs": [],
   "source": [
    "# Save weighted FastText embeddings\n",
    "with open(\"../output/weighted_vectors.txt\", \"w\") as f:\n",
    "    for i, vec in enumerate(weighted_embeds):\n",
    "        vec_str = \",\".join(map(str, vec))\n",
    "        f.write(f\"#{i},{vec_str}\\n\")"
   ]
  },
  {
   "cell_type": "markdown",
   "metadata": {},
   "source": [
    "Upon inspection, the file format meets all specified requirements and appears correctly structured."
   ]
  },
  {
   "cell_type": "markdown",
   "metadata": {},
   "source": [
    "## Task 3. Clothing Review Classification"
   ]
  },
  {
   "cell_type": "markdown",
   "metadata": {},
   "source": [
    "### 3.1 Target Variable Examination\n",
    "Before going into this task, we would like to examining the target variable in dataset before we feed it into our models."
   ]
  },
  {
   "cell_type": "code",
   "execution_count": null,
   "metadata": {},
   "outputs": [],
   "source": [
    "# Paths\n",
    "DATA_PATH = \"../output/processed.csv\"\n",
    "VOCAB_PATH = \"../output/vocab.txt\"\n",
    "\n",
    "# Load\n",
    "df = pd.read_csv(DATA_PATH)"
   ]
  },
  {
   "cell_type": "code",
   "execution_count": null,
   "metadata": {},
   "outputs": [],
   "source": [
    "df.head()"
   ]
  },
  {
   "cell_type": "markdown",
   "metadata": {},
   "source": [
    "This dataset has already been processed in Task 1, so here we focus only on the target label, `Recommended IND`.  \n",
    "\n",
    "Our first step is to check if the column is valid:  \n",
    "- It should contain only `0` and `1` values.  \n",
    "- Its data type should be integer.  \n",
    "\n",
    "This quick validation ensures the labels are ready to be used for model training.  "
   ]
  },
  {
   "cell_type": "code",
   "execution_count": null,
   "metadata": {},
   "outputs": [],
   "source": [
    "unique_values = df['Recommended IND'].unique()\n",
    "is_binary = set(unique_values).issubset({0, 1})\n",
    "is_integer = pd.api.types.is_integer_dtype(df['Recommended IND'])\n",
    "\n",
    "print(f\"Unique values in 'Recommended IND': {unique_values}\")\n",
    "print(f\"Contains only 0 and 1: {is_binary}\")\n",
    "print(f\"Is integer type: {is_integer}\")\n",
    "\n",
    "if is_binary and is_integer:\n",
    "    print(\"'Recommended IND' column is valid.\")\n",
    "else:\n",
    "    print(\"'Recommended IND' column is invalid. Please check the data.\")"
   ]
  },
  {
   "cell_type": "markdown",
   "metadata": {},
   "source": [
    "The first check confirms that the target column is valid.  \n",
    "Next, we examine whether there are any **missing values** in `Recommended IND`.  \n",
    "This helps us ensure that every review has a label before moving on to modeling.  "
   ]
  },
  {
   "cell_type": "code",
   "execution_count": null,
   "metadata": {},
   "outputs": [],
   "source": [
    "missing_count = df['Recommended IND'].isnull().sum()\n",
    "print(f\"Number of missing values in 'Recommended IND': {missing_count}\")\n",
    "\n",
    "if missing_count > 0:\n",
    "    print(\"Warning: There are missing labels in the 'Recommended IND' column.\")\n",
    "else:\n",
    "    print(\"No missing labels found in the 'Recommended IND' column.\")"
   ]
  },
  {
   "cell_type": "markdown",
   "metadata": {},
   "source": [
    "With no missing labels detected, we now look at the **class distribution** of `Recommended IND`.  \n",
    "This shows how many reviews are marked as recommended (`1`) versus not recommended (`0`).  \n",
    "Understanding this balance is important, since class imbalance can affect model performance and the choice of evaluation metrics.  "
   ]
  },
  {
   "cell_type": "code",
   "execution_count": null,
   "metadata": {},
   "outputs": [],
   "source": [
    "# Check class distribution\n",
    "class_distribution = df['Recommended IND'].value_counts()\n",
    "print(\"Class Distribution:\")\n",
    "print(class_distribution)\n",
    "print(\"\\nPercentage Distribution:\")\n",
    "print(class_distribution / class_distribution.sum() * 100)"
   ]
  },
  {
   "cell_type": "markdown",
   "metadata": {},
   "source": [
    "The distribution shows that out of ~19,600 reviews, **81.8%** are labeled as recommended (`1`) and **18.2%** as not recommended (`0`).  \n",
    "This confirms a noticeable class imbalance, which we need to keep in mind when selecting models and evaluation metrics.  \n",
    "\n",
    "To make this clearer, we plot the class distribution below.  "
   ]
  },
  {
   "cell_type": "code",
   "execution_count": null,
   "metadata": {},
   "outputs": [],
   "source": [
    "# Plot the distribution of the 'Recommended IND' column\n",
    "if 'Recommended IND' in df.columns:\n",
    "    plt.figure(figsize=(8, 5))\n",
    "    df['Recommended IND'].value_counts().plot(kind='bar', color=['skyblue', 'orange'], edgecolor='black')\n",
    "    plt.title('Distribution of Recommended IND', fontsize=14)\n",
    "    plt.xlabel('Recommended IND', fontsize=12)\n",
    "    plt.ylabel('Count', fontsize=12)\n",
    "    plt.xticks(rotation=0)\n",
    "    plt.grid(axis='y', linestyle='--', alpha=0.7)\n",
    "    plt.tight_layout()\n",
    "    plt.show()\n",
    "else:\n",
    "    print(\"'Recommended IND' column not found in the dataset.\")"
   ]
  },
  {
   "cell_type": "markdown",
   "metadata": {},
   "source": [
    "The bar chart highlights the imbalance in our target variable:  \n",
    "- The majority of reviews (~16,000) are **recommended** (`1`).  \n",
    "- A smaller portion (~3,600) are **not recommended** (`0`).  \n",
    "\n",
    "This confirms that the dataset is skewed toward positive recommendations (about 4:1 ratio).  \n",
    "We’ll need to keep this in mind when evaluating models, as accuracy alone may not fully reflect performance.  \n",
    "\n",
    "With the target variable examined and validated, we can now move on to **Question 1** and compare different feature representations with machine learning models.  "
   ]
  },
  {
   "cell_type": "markdown",
   "metadata": {},
   "source": [
    "### 3.2 Question 1 — Which representation performs best?"
   ]
  },
  {
   "cell_type": "markdown",
   "metadata": {},
   "source": [
    "#### 3.2.1 Baseline Models Experiement\n",
    "\n",
    "With the target validated, we now ask:  \n",
    "**Which feature representation from Task 2 works best with our models?**  \n",
    "\n",
    "We test three setups:  \n",
    "- **Bag-of-Words (Count vectors)**  \n",
    "- **Unweighted FastText embeddings**  \n",
    "- **TF-IDF Weighted FastText embeddings**  \n",
    "\n",
    "To handle class imbalance, we evaluate with multiple metrics (Accuracy, F1, ROC-AUC, Balanced Accuracy) under **Stratified 5-fold CV**.  \n",
    "We also extract the target vector `y` and confirm its shape and positive rate."
   ]
  },
  {
   "cell_type": "code",
   "execution_count": null,
   "metadata": {},
   "outputs": [],
   "source": [
    "RANDOM_STATE = 42\n",
    "N_FOLDS = 5\n",
    "\n",
    "# Use multiple metrics — accuracy alone can be misleading under imbalance\n",
    "scoring = {\n",
    "    \"acc\": \"accuracy\",\n",
    "    \"f1\": \"f1\",\n",
    "    \"roc\": \"roc_auc\",\n",
    "    \"bacc\": \"balanced_accuracy\"\n",
    "}\n",
    "\n",
    "cv = StratifiedKFold(n_splits=N_FOLDS, shuffle=True, random_state=RANDOM_STATE)\n",
    "\n",
    "# Target vector (ensure 0/1 int)\n",
    "y = df[\"Recommended IND\"].astype(int).to_numpy()\n",
    "print(\"y shape:\", y.shape, \" | pos_rate:\", np.mean(y).round(4))"
   ]
  },
  {
   "cell_type": "markdown",
   "metadata": {},
   "source": [
    "Next, we load the feature representations generated in **Task 2**.  \n",
    "- **BoW (Count vectors)** are stored in `count_vectors.txt` (sparse format).  \n",
    "- **Unweighted FastText embeddings** in `unweighted_vectors.txt`.  \n",
    "- **TF-IDF Weighted FastText embeddings** in `weighted_vectors.txt`.  \n",
    "\n",
    "We define helper functions to parse these files into proper matrices (sparse for BoW, dense for embeddings).  \n",
    "After loading, we check the shapes of all three feature sets and ensure they align with the target vector `y`."
   ]
  },
  {
   "cell_type": "code",
   "execution_count": null,
   "metadata": {},
   "outputs": [],
   "source": [
    "VOCAB_PATH = \"../output/vocab.txt\"\n",
    "COUNT_VECTORS_PATH = \"../output/count_vectors.txt\"\n",
    "UNW_PATH = \"../output/unweighted_vectors.txt\"\n",
    "W_PATH   = \"../output/weighted_vectors.txt\"\n",
    "\n",
    "# Load vocab size\n",
    "with open(VOCAB_PATH, \"r\") as f:\n",
    "    vocab_size = sum(1 for _ in f)\n",
    "print(\"Vocab size:\", vocab_size)\n",
    "\n",
    "def load_sparse_counts(path, n_features):\n",
    "    # Parse lines like: \"#12,3:2,10:1,41:4\"\n",
    "    indices = []\n",
    "    indptr = [0]\n",
    "    data = []\n",
    "    with open(path, \"r\") as f:\n",
    "        for line in f:\n",
    "            parts = line.strip().split(\",\")\n",
    "            # parts[0] is like \"#12\"\n",
    "            for kv in parts[1:]:\n",
    "                k, v = kv.split(\":\")\n",
    "                indices.append(int(k))\n",
    "                data.append(float(v))\n",
    "            indptr.append(len(indices))\n",
    "    X = sparse.csr_matrix((np.array(data, dtype=np.float32),\n",
    "                    np.array(indices, dtype=np.int32),\n",
    "                    np.array(indptr, dtype=np.int32)),\n",
    "                   shape=(len(indptr)-1, n_features))\n",
    "    return X\n",
    "\n",
    "def load_dense_vectors(path):\n",
    "    rows = []\n",
    "    with open(path, \"r\") as f:\n",
    "        for line in f:\n",
    "            # \"#idx,val1,val2,...\"\n",
    "            line = line.strip()\n",
    "            comma = line.find(\",\")\n",
    "            vec_str = line[comma+1:]\n",
    "            rows.append([float(x) for x in vec_str.split(\",\")])\n",
    "    return np.asarray(rows, dtype=np.float32)\n",
    "\n",
    "# Load all three\n",
    "X_bow = load_sparse_counts(COUNT_VECTORS_PATH, vocab_size)\n",
    "X_unw = load_dense_vectors(UNW_PATH)\n",
    "X_w   = load_dense_vectors(W_PATH)\n",
    "\n",
    "print(\"Shapes -> BoW:\", X_bow.shape, \" | Unweighted:\", X_unw.shape, \" | Weighted:\", X_w.shape)\n",
    "\n",
    "# Sanity: all representations must align in rows with y\n",
    "assert X_bow.shape[0] == y.shape[0] == X_unw.shape[0] == X_w.shape[0], \"Row mismatch among features/target.\""
   ]
  },
  {
   "cell_type": "markdown",
   "metadata": {},
   "source": [
    "Before testing real models, we establish a **baseline** using a `DummyClassifier` that always predicts the most frequent class.  \n",
    "This gives us a reference point: any meaningful model should perform better than this trivial strategy.  \n",
    "\n",
    "We evaluate the dummy model with the same cross-validation setup and metrics (Accuracy, F1, ROC-AUC, Balanced Accuracy) to provide a fair comparison. "
   ]
  },
  {
   "cell_type": "code",
   "execution_count": null,
   "metadata": {},
   "outputs": [],
   "source": [
    "from sklearn.dummy import DummyClassifier\n",
    "\n",
    "baseline = DummyClassifier(strategy=\"most_frequent\", random_state=RANDOM_STATE)\n",
    "base_res = cross_validate(baseline, X_bow, y, cv=cv, scoring=scoring, n_jobs=-1, return_train_score=False)\n",
    "\n",
    "pd.DataFrame({\n",
    "    \"metric\": list(scoring.keys()),\n",
    "    \"mean\": [base_res[f\"test_{k}\"].mean() for k in scoring.keys()],\n",
    "    \"std\":  [base_res[f\"test_{k}\"].std()  for k in scoring.keys()],\n",
    "}).set_index(\"metric\")"
   ]
  },
  {
   "cell_type": "markdown",
   "metadata": {},
   "source": [
    "The baseline model achieves **81.8% accuracy**, which simply reflects the majority class rate in the dataset.  \n",
    "However, its **ROC-AUC (0.5)** and **Balanced Accuracy (0.5)** show it has no real predictive power.  \n",
    "The **F1 score (0.90)** is also misleading here, as it comes entirely from predicting the majority class.  \n",
    "\n",
    "This confirms that accuracy and F1 alone can be deceptive under imbalance — stronger models need to show gains in ROC-AUC and Balanced Accuracy."
   ]
  },
  {
   "cell_type": "markdown",
   "metadata": {},
   "source": [
    "Next, we evaluate a stronger baseline model: **Logistic Regression** with class weights set to `\"balanced\"`.  \n",
    "This adjustment compensates for the skewed class distribution by giving more weight to the minority class.  \n",
    "\n",
    "We test Logistic Regression on all three feature sets:  \n",
    "- **BoW (Count vectors)** — used directly without scaling.  \n",
    "- **Unweighted embeddings** — scaled before training.  \n",
    "- **TF-IDF Weighted embeddings** — also scaled before training.  \n",
    "\n",
    "Each pipeline is run with 5-fold cross-validation, and we record the mean and standard deviation for all evaluation metrics."
   ]
  },
  {
   "cell_type": "code",
   "execution_count": null,
   "metadata": {},
   "outputs": [],
   "source": [
    "logreg = LogisticRegression(\n",
    "    max_iter=2000,\n",
    "    class_weight=\"balanced\",\n",
    "    random_state=RANDOM_STATE,\n",
    "    n_jobs=-1\n",
    ")\n",
    "\n",
    "# Pipelines per feature set\n",
    "pipe_bow = Pipeline([\n",
    "    (\"clf\", logreg)  # no scaler for sparse BoW\n",
    "])\n",
    "\n",
    "pipe_unw = Pipeline([\n",
    "    (\"scaler\", StandardScaler(with_mean=True, with_std=True)),\n",
    "    (\"clf\", logreg)\n",
    "])\n",
    "\n",
    "pipe_w = Pipeline([\n",
    "    (\"scaler\", StandardScaler(with_mean=True, with_std=True)),\n",
    "    (\"clf\", logreg)\n",
    "])\n",
    "\n",
    "def eval_pipe(name, pipe, X, y):\n",
    "    res = cross_validate(pipe, X, y, cv=cv, scoring=scoring, n_jobs=-1, return_train_score=False)\n",
    "    row = {\n",
    "        \"Feature set\": name,\n",
    "        **{f\"mean_{m}\": res[f\"test_{m}\"].mean() for m in scoring.keys()},\n",
    "        **{f\"std_{m}\":  res[f\"test_{m}\"].std()  for m in scoring.keys()},\n",
    "    }\n",
    "    return row\n",
    "\n",
    "results = []\n",
    "results.append(eval_pipe(\"BoW (Count)\",             pipe_bow, X_bow, y))\n",
    "results.append(eval_pipe(\"Emb (Unweighted Avg)\",    pipe_unw, X_unw, y))\n",
    "results.append(eval_pipe(\"Emb (TF-IDF Weighted)\",   pipe_w,   X_w,   y))\n",
    "\n",
    "df_q1 = pd.DataFrame(results).sort_values(\"mean_f1\", ascending=False).reset_index(drop=True)\n",
    "df_q1"
   ]
  },
  {
   "cell_type": "markdown",
   "metadata": {},
   "source": [
    "The results show clear differences across feature representations:  \n",
    "\n",
    "- **BoW (Count)** performs best overall, with the highest **F1 (0.905)** and **ROC-AUC (0.888)**, while also maintaining strong balanced accuracy (~0.81).  \n",
    "- **Unweighted embeddings** achieve decent performance (**F1 = 0.865**, **ROC-AUC = 0.871**) but fall short compared to BoW.  \n",
    "- **TF-IDF weighted embeddings** perform slightly worse than unweighted, with **F1 = 0.857** and **ROC-AUC = 0.860**.  \n",
    "\n",
    "Overall, Logistic Regression favors the **BoW representation**, which outperforms embedding-based approaches on this dataset."
   ]
  },
  {
   "cell_type": "markdown",
   "metadata": {},
   "source": [
    "To complement Logistic Regression, we now test a **Linear Support Vector Machine (LinearSVC)** with class weights set to `\"balanced\"`.  \n",
    "Like before, we run experiments on all three feature sets:  \n",
    "\n",
    "- **BoW (Count vectors)** — directly used without scaling.  \n",
    "- **Unweighted embeddings** — scaled before training.  \n",
    "- **TF-IDF Weighted embeddings** — scaled before training.  \n",
    "\n",
    "We apply 5-fold cross-validation and collect the same evaluation metrics to compare against the Logistic Regression results."
   ]
  },
  {
   "cell_type": "code",
   "execution_count": null,
   "metadata": {},
   "outputs": [],
   "source": [
    "svm = LinearSVC(class_weight=\"balanced\", random_state=RANDOM_STATE)\n",
    "\n",
    "pipe_bow_svm = Pipeline([(\"clf\", svm)])\n",
    "pipe_unw_svm = Pipeline([(\"scaler\", StandardScaler()), (\"clf\", svm)])\n",
    "pipe_w_svm   = Pipeline([(\"scaler\", StandardScaler()), (\"clf\", svm)])\n",
    "\n",
    "svm_rows = []\n",
    "svm_rows.append(eval_pipe(\"BoW (Count) + SVM\",           pipe_bow_svm, X_bow, y))\n",
    "svm_rows.append(eval_pipe(\"Emb (Unweighted Avg) + SVM\",  pipe_unw_svm, X_unw, y))\n",
    "svm_rows.append(eval_pipe(\"Emb (TF-IDF Weighted) + SVM\", pipe_w_svm,   X_w,   y))\n",
    "\n",
    "df_q1_svm = pd.DataFrame(svm_rows).sort_values(\"mean_f1\", ascending=False).reset_index(drop=True)\n",
    "df_q1_svm"
   ]
  },
  {
   "cell_type": "markdown",
   "metadata": {},
   "source": [
    "The Linear SVM results show a similar trend to Logistic Regression:  \n",
    "\n",
    "- **BoW (Count)** again comes out on top, with the highest **F1 (0.897)** and strong accuracy (~0.836), though its ROC-AUC (0.851) is lower than Logistic Regression.  \n",
    "- **Unweighted embeddings** achieve competitive **ROC-AUC (0.871)**, nearly matching their Logistic Regression performance.  \n",
    "- **TF-IDF weighted embeddings** perform slightly worse, with **F1 = 0.856** and **ROC-AUC = 0.860**.  \n",
    "\n",
    "Overall, SVM reinforces the finding that **BoW is the strongest representation**, while embeddings (especially unweighted) still perform reasonably well but lag behind."
   ]
  },
  {
   "cell_type": "markdown",
   "metadata": {},
   "source": [
    "To see if oversampling can help, we apply **SMOTE (Synthetic Minority Oversampling Technique)** on the minority class before training Logistic Regression.  \n",
    "Unlike the earlier balanced-class-weight approach, this version of Logistic Regression uses **no class weights** and instead relies on SMOTE to balance the training data.  \n",
    "We test this setup on the **Unweighted FastText embeddings** and evaluate it with the same cross-validation and metrics as before."
   ]
  },
  {
   "cell_type": "code",
   "execution_count": null,
   "metadata": {},
   "outputs": [],
   "source": [
    "logreg_smote = LogisticRegression(\n",
    "    max_iter=2000, class_weight=None, random_state=RANDOM_STATE, n_jobs=-1\n",
    ")\n",
    "\n",
    "pipe_unw_smote = ImbPipeline([\n",
    "    (\"scaler\", StandardScaler()),\n",
    "    (\"smote\", SMOTE(random_state=RANDOM_STATE)),\n",
    "    (\"clf\", logreg_smote)\n",
    "])\n",
    "\n",
    "res_smote = cross_validate(pipe_unw_smote, X_unw, y, cv=cv, scoring=scoring, n_jobs=-1)\n",
    "pd.DataFrame({\n",
    "    \"metric\": list(scoring.keys()),\n",
    "    \"mean\": [res_smote[f\"test_{k}\"].mean() for k in scoring.keys()],\n",
    "    \"std\":  [res_smote[f\"test_{k}\"].std()  for k in scoring.keys()],\n",
    "}).set_index(\"metric\")"
   ]
  },
  {
   "cell_type": "markdown",
   "metadata": {},
   "source": [
    "The SMOTE-based Logistic Regression achieves **Accuracy = 80.2%**, **F1 = 0.870**, and **ROC-AUC = 0.868**, with **Balanced Accuracy = 0.788**.  \n",
    "Compared to the class-weighted Logistic Regression results, the scores are similar but not clearly better — SMOTE provides only a modest benefit.  \n",
    "This suggests that while SMOTE can balance the classes, the **class-weighting strategy is already effective**, and additional oversampling does not significantly improve performance here."
   ]
  },
  {
   "cell_type": "markdown",
   "metadata": {},
   "source": [
    "To make the results easier to compare, we tidy up the outputs from both **Logistic Regression** and **Linear SVM**.  \n",
    "We standardize the column names, keep only the key metrics (F1, ROC-AUC, Balanced Accuracy, Accuracy), and merge everything into a single table.  \n",
    "\n",
    "This combined view lets us directly compare how each feature representation performs across the two models."
   ]
  },
  {
   "cell_type": "code",
   "execution_count": null,
   "metadata": {},
   "outputs": [],
   "source": [
    "def tidy(df, model_name):\n",
    "    use = df.copy()\n",
    "    use.insert(1, \"Model\", model_name)\n",
    "    # Normalize possible column names\n",
    "    if \"mean_roc\" in use.columns and \"mean_roc_auc\" not in use.columns:\n",
    "        use = use.rename(columns={\"mean_roc\": \"mean_roc_auc\"})\n",
    "    # Keep only columns that exist\n",
    "    keep_cols = [\"Feature set\", \"Model\", \"mean_f1\", \"mean_roc_auc\", \"mean_bacc\", \"mean_acc\"]\n",
    "    keep_cols = [c for c in keep_cols if c in use.columns]\n",
    "    return use[keep_cols]\n",
    "\n",
    "tbl = pd.concat(\n",
    "    [\n",
    "        tidy(df_q1, \"LogReg (balanced)\"),\n",
    "        tidy(df_q1_svm, \"LinearSVC (balanced)\"),\n",
    "    ],\n",
    "    ignore_index=True,\n",
    ")\n",
    "\n",
    "# Round for neatness\n",
    "num_cols = [c for c in tbl.columns if c.startswith(\"mean_\")]\n",
    "tbl[num_cols] = tbl[num_cols].round(4)\n",
    "\n",
    "# Sort by model then F1 desc if available\n",
    "sort_cols = [\"Model\"] + ([ \"mean_f1\" ] if \"mean_f1\" in tbl.columns else [])\n",
    "tbl = tbl.sort_values(sort_cols, ascending=[True, False] if sort_cols else True).reset_index(drop=True)\n",
    "tbl"
   ]
  },
  {
   "cell_type": "markdown",
   "metadata": {},
   "source": [
    "This summary table confirms the earlier trends:  \n",
    "\n",
    "- **BoW (Count)** remains the strongest representation overall.  \n",
    "  - With **Logistic Regression**, it achieves the best balance of metrics (**F1 = 0.905**, **ROC-AUC = 0.888**, **Balanced Accuracy = 0.807**).  \n",
    "  - With **SVM**, BoW still performs well (**F1 = 0.897**), though its ROC-AUC is lower than with Logistic Regression.  \n",
    "\n",
    "- **Unweighted embeddings** are competitive in terms of ROC-AUC (~0.871 for both models) but slightly weaker on F1 and accuracy.  \n",
    "\n",
    "- **TF-IDF weighted embeddings** consistently trail behind unweighted embeddings, regardless of model.  \n",
    "\n",
    "Overall, **BoW paired with Logistic Regression (balanced)** gives the most robust performance, while embeddings provide decent alternatives but do not surpass the simpler BoW representation."
   ]
  },
  {
   "cell_type": "markdown",
   "metadata": {},
   "source": [
    "To compare strategies for handling class imbalance, we directly test **Logistic Regression with class weights balanced** against **Logistic Regression with SMOTE oversampling**.  \n",
    "Both are evaluated on the **Unweighted FastText embeddings** using the same cross-validation and metrics.  \n",
    "This lets us see whether oversampling provides any advantage over the simpler class-weight adjustment.  "
   ]
  },
  {
   "cell_type": "code",
   "execution_count": null,
   "metadata": {},
   "outputs": [],
   "source": [
    "# Logistic Regression with class_weight balanced (already trained)\n",
    "res_balanced = cross_validate(\n",
    "    pipe_unw, X_unw, y, cv=cv, scoring=scoring, n_jobs=-1\n",
    ")\n",
    "\n",
    "# Logistic Regression + SMOTE (already defined as pipe_unw_smote)\n",
    "res_smote = cross_validate(\n",
    "    pipe_unw_smote, X_unw, y, cv=cv, scoring=scoring, n_jobs=-1\n",
    ")\n",
    "\n",
    "# Build comparison table\n",
    "comp = pd.DataFrame({\n",
    "    \"metric\": list(scoring.keys()),\n",
    "    \"Balanced (mean)\": [res_balanced[f\"test_{m}\"].mean() for m in scoring],\n",
    "    \"Balanced (std)\":  [res_balanced[f\"test_{m}\"].std()  for m in scoring],\n",
    "    \"SMOTE (mean)\":    [res_smote[f\"test_{m}\"].mean()    for m in scoring],\n",
    "    \"SMOTE (std)\":     [res_smote[f\"test_{m}\"].std()     for m in scoring],\n",
    "})\n",
    "\n",
    "comp = comp.round(4)\n",
    "comp"
   ]
  },
  {
   "cell_type": "markdown",
   "metadata": {},
   "source": [
    "The comparison shows very similar results:  \n",
    "\n",
    "- **Balanced weights**: F1 = 0.865, ROC-AUC = 0.871, Balanced Accuracy = 0.792  \n",
    "- **SMOTE**: F1 = 0.870, ROC-AUC = 0.868, Balanced Accuracy = 0.788  \n",
    "\n",
    "SMOTE gives a slight bump in accuracy and F1, but its ROC-AUC and balanced accuracy are slightly worse.  \n",
    "Overall, the two approaches perform nearly the same, suggesting that **class weighting alone is already sufficient**, and SMOTE does not add a clear benefit for this dataset."
   ]
  },
  {
   "cell_type": "markdown",
   "metadata": {},
   "source": [
    "#### 3.2.2 Additional Models Experiment"
   ]
  },
  {
   "cell_type": "markdown",
   "metadata": {},
   "source": [
    "Before experimenting with additional models, we reset the evaluation setup for clarity:  \n",
    "\n",
    "- Define the same metrics (**Accuracy, F1, ROC-AUC, Balanced Accuracy**)  \n",
    "- Use **Stratified 5-fold CV** with a fixed random seed for reproducibility  \n",
    "- Run sanity checks to ensure all three feature matrices (BoW, Unweighted, Weighted) align with the target vector `y`"
   ]
  },
  {
   "cell_type": "code",
   "execution_count": null,
   "metadata": {},
   "outputs": [],
   "source": [
    "RANDOM_STATE = 42\n",
    "N_FOLDS = 5\n",
    "\n",
    "scoring = {\n",
    "    \"acc\": \"accuracy\",\n",
    "    \"f1\": \"f1\",\n",
    "    \"roc_auc\": \"roc_auc\",\n",
    "    \"bacc\": \"balanced_accuracy\",\n",
    "}\n",
    "cv = StratifiedKFold(n_splits=N_FOLDS, shuffle=True, random_state=RANDOM_STATE)\n",
    "\n",
    "# Sanity checks\n",
    "assert X_bow.shape[0] == y.shape[0] == X_unw.shape[0] == X_w.shape[0], \"Rows mismatch among features/target.\"\n",
    "print(\"Shapes OK -> BoW:\", X_bow.shape, \"| Unweighted:\", X_unw.shape, \"| Weighted:\", X_w.shape, \"| y:\", y.shape)"
   ]
  },
  {
   "cell_type": "markdown",
   "metadata": {},
   "source": [
    "The output confirms that all matrices have consistent shapes, so we can safely proceed with further experiments."
   ]
  },
  {
   "cell_type": "markdown",
   "metadata": {},
   "source": [
    "To streamline experiments with multiple classifiers, we define a helper function `evaluate_model`.  \n",
    "It takes the experiment name, a pipeline, and a feature set, then runs **5-fold cross-validation** with our chosen metrics.  \n",
    "\n",
    "The function returns a summary row containing the mean and standard deviation for each metric, making it easier to compare models later."
   ]
  },
  {
   "cell_type": "code",
   "execution_count": null,
   "metadata": {},
   "outputs": [],
   "source": [
    "def evaluate_model(name, pipeline, X, y, *, cv=cv, scoring=scoring):\n",
    "    res = cross_validate(pipeline, X, y, cv=cv, scoring=scoring, n_jobs=-1, return_train_score=False)\n",
    "    row = {\"Exp\": name}\n",
    "    for m in scoring:\n",
    "        row[f\"{m}_mean\"] = float(np.mean(res[f\"test_{m}\"]))\n",
    "        row[f\"{m}_std\"]  = float(np.std(res[f\"test_{m}\"]))\n",
    "    return row"
   ]
  },
  {
   "cell_type": "markdown",
   "metadata": {},
   "source": [
    "We now define a broader set of models to compare across the three feature representations.  \n",
    "\n",
    "- **Sparse-friendly (BoW)**  \n",
    "  - Logistic Regression (balanced)  \n",
    "  - Linear SVM (balanced)  \n",
    "  - Multinomial Naive Bayes  \n",
    "  - Random Forest (balanced)  \n",
    "\n",
    "- **Dense-friendly (Embeddings)**  \n",
    "  - Logistic Regression (balanced)  \n",
    "  - Linear SVM (balanced)  \n",
    "  - Histogram-based Gradient Boosting (balanced)  \n",
    "  - Multi-Layer Perceptron (MLP) with 128 hidden units  \n",
    "\n",
    "This setup allows us to test both linear and non-linear models, covering simple baselines through more complex learners."
   ]
  },
  {
   "cell_type": "code",
   "execution_count": null,
   "metadata": {},
   "outputs": [],
   "source": [
    "# Sparse-friendly (BoW)\n",
    "models_bow = {\n",
    "    \"LogReg (balanced)\": LogisticRegression(max_iter=2000, class_weight=\"balanced\", n_jobs=-1, random_state=RANDOM_STATE),\n",
    "    \"LinearSVC (balanced)\": LinearSVC(class_weight=\"balanced\", random_state=RANDOM_STATE),\n",
    "    \"MultinomialNB\": MultinomialNB(),\n",
    "    \"RandomForest (balanced)\": RandomForestClassifier(\n",
    "        n_estimators=250, max_depth=None, class_weight=\"balanced\",\n",
    "        n_jobs=-1, random_state=RANDOM_STATE\n",
    "    ),\n",
    "}\n",
    "\n",
    "# Dense-friendly (Embeddings)\n",
    "models_dense = {\n",
    "    \"LogReg (balanced)\": LogisticRegression(max_iter=2000, class_weight=\"balanced\", n_jobs=-1, random_state=RANDOM_STATE),\n",
    "    \"LinearSVC (balanced)\": LinearSVC(class_weight=\"balanced\", random_state=RANDOM_STATE),\n",
    "    \"HistGB (balanced)\": HistGradientBoostingClassifier(random_state=RANDOM_STATE, class_weight=\"balanced\"),\n",
    "    \"MLP (128)\": MLPClassifier(hidden_layer_sizes=(128,), max_iter=80, random_state=RANDOM_STATE),\n",
    "}"
   ]
  },
  {
   "cell_type": "markdown",
   "metadata": {},
   "source": [
    "With the model set defined, we now run each classifier across all feature representations.  \n",
    "\n",
    "- For **BoW**, we keep the sparse format and feed it directly into the models.  \n",
    "- For **embeddings**, we scale the dense vectors before training.  \n",
    "\n",
    "Using the `evaluate_model` helper, we collect the mean and standard deviation for each metric under 5-fold CV.  \n",
    "Finally, we combine the results into a single dataframe and sort by **F1 score** to highlight the top-performing setups."
   ]
  },
  {
   "cell_type": "code",
   "execution_count": null,
   "metadata": {},
   "outputs": [],
   "source": [
    "results = []\n",
    "\n",
    "# BoW: no scaler (keep sparse)\n",
    "for name, clf in models_bow.items():\n",
    "    pipe = Pipeline([(\"clf\", clf)])\n",
    "    results.append(evaluate_model(f\"{name} + BoW\", pipe, X_bow, y))\n",
    "\n",
    "# Embeddings: scale first (dense)\n",
    "for name, clf in models_dense.items():\n",
    "    pipe_unw = Pipeline([(\"scaler\", StandardScaler()), (\"clf\", clf)])\n",
    "    pipe_w   = Pipeline([(\"scaler\", StandardScaler()), (\"clf\", clf)])\n",
    "    results.append(evaluate_model(f\"{name} + Emb-Unweighted\", pipe_unw, X_unw, y))\n",
    "    results.append(evaluate_model(f\"{name} + Emb-WeightedTFIDF\", pipe_w,   X_w,   y))\n",
    "\n",
    "df_all = pd.DataFrame(results)\n",
    "metric_cols = [c for c in df_all.columns if c.endswith(\"_mean\")]\n",
    "df_all_sorted = df_all.sort_values(\"f1_mean\", ascending=False).reset_index(drop=True)\n",
    "df_all_sorted[[\"Exp\"] + metric_cols].round(4)"
   ]
  },
  {
   "cell_type": "markdown",
   "metadata": {},
   "source": [
    "The extended comparison highlights some interesting patterns:  \n",
    "\n",
    "- **Best overall**: **Multinomial Naive Bayes with BoW** achieves the top scores, with the highest **F1 (0.923)** and **ROC-AUC (0.900)**, making it the standout performer.  \n",
    "- **Close runner-up**: **Random Forest with BoW** also performs strongly (**F1 = 0.919**, **ROC-AUC = 0.891**), though its **Balanced Accuracy (0.649)** is much lower, indicating it struggles more with the minority class.  \n",
    "- **Neural models**: The **MLP with embeddings** performs better than Logistic Regression and SVM on dense inputs (**F1 ~0.906 unweighted, 0.903 weighted**), suggesting non-linear models can leverage embeddings more effectively.  \n",
    "- **Linear models**: Logistic Regression and Linear SVM again confirm that **BoW works best for them**, while embedding-based inputs lag behind.  \n",
    "- **Histogram Gradient Boosting** achieves reasonable results with embeddings (**F1 ~0.882**) but does not surpass the top BoW-based models.  \n",
    "\n",
    "**Conclusion:** For this dataset, **BoW-based models clearly outperform embedding-based ones**, with **Naive Bayes** and **Random Forest** showing especially strong results. Among embeddings, **MLP** provides the best use of dense representations, though still below BoW."
   ]
  },
  {
   "cell_type": "markdown",
   "metadata": {},
   "source": [
    "To dig deeper into imbalance handling, we directly compare **Logistic Regression with balanced class weights** against **Logistic Regression with SMOTE oversampling** on the unweighted embeddings.  \n",
    "\n",
    "We evaluate both under the same 5-fold CV setup and compute the **difference (Δ)** in performance metrics (SMOTE − Balanced).  \n",
    "This makes it easy to see whether oversampling provides any clear advantage over class weighting."
   ]
  },
  {
   "cell_type": "code",
   "execution_count": null,
   "metadata": {},
   "outputs": [],
   "source": [
    "logreg_bal = LogisticRegression(max_iter=2000, class_weight=\"balanced\", n_jobs=-1, random_state=RANDOM_STATE)\n",
    "pipe_bal_unw = Pipeline([(\"scaler\", StandardScaler()), (\"clf\", logreg_bal)])\n",
    "\n",
    "logreg_plain = LogisticRegression(max_iter=2000, class_weight=None, n_jobs=-1, random_state=RANDOM_STATE)\n",
    "pipe_smote_unw = ImbPipeline([\n",
    "    (\"scaler\", StandardScaler()),\n",
    "    (\"smote\", SMOTE(random_state=RANDOM_STATE)),\n",
    "    (\"clf\", logreg_plain),\n",
    "])\n",
    "\n",
    "res_bal = cross_validate(pipe_bal_unw, X_unw, y, cv=cv, scoring=scoring, n_jobs=-1)\n",
    "res_smt = cross_validate(pipe_smote_unw, X_unw, y, cv=cv, scoring=scoring, n_jobs=-1)\n",
    "\n",
    "comp = pd.DataFrame({\n",
    "    \"metric\": list(scoring.keys()),\n",
    "    \"Balanced_mean\": [res_bal[f\"test_{m}\"].mean() for m in scoring],\n",
    "    \"Balanced_std\":  [res_bal[f\"test_{m}\"].std()  for m in scoring],\n",
    "    \"SMOTE_mean\":    [res_smt[f\"test_{m}\"].mean() for m in scoring],\n",
    "    \"SMOTE_std\":     [res_smt[f\"test_{m}\"].std()  for m in scoring],\n",
    "}).round(4)\n",
    "\n",
    "# Add delta columns (SMOTE - Balanced)\n",
    "for m in scoring:\n",
    "    comp[f\"Δ_{m}\"] = (comp[f\"SMOTE_mean\"] - comp[f\"Balanced_mean\"]).round(4)\n",
    "\n",
    "comp"
   ]
  },
  {
   "cell_type": "markdown",
   "metadata": {},
   "source": [
    "The comparison shows only minor differences between class weighting and SMOTE:  \n",
    "\n",
    "- **Accuracy and F1**: SMOTE gives a small boost (+0.006 in both).  \n",
    "- **ROC-AUC and Balanced Accuracy**: slightly lower with SMOTE (−0.003).  \n",
    "\n",
    "Overall, the two strategies perform almost identically.  \n",
    "Class weighting is already effective, and SMOTE does not provide a clear advantage — the small gains in accuracy/F1 are offset by small drops in ROC-AUC and balanced accuracy."
   ]
  },
  {
   "cell_type": "markdown",
   "metadata": {},
   "source": [
    "We repeat the same comparison — **Logistic Regression with balanced class weights** vs **Logistic Regression with SMOTE** — but this time using the **TF-IDF Weighted FastText embeddings**.  \n",
    "\n",
    "The setup is identical to the unweighted case, and we again calculate the **Δ (SMOTE − Balanced)** for each metric to see if oversampling provides any consistent benefit with this feature set."
   ]
  },
  {
   "cell_type": "code",
   "execution_count": null,
   "metadata": {},
   "outputs": [],
   "source": [
    "pipe_bal_w = Pipeline([(\"scaler\", StandardScaler()), (\"clf\", logreg_bal)])\n",
    "pipe_smote_w = ImbPipeline([\n",
    "    (\"scaler\", StandardScaler()),\n",
    "    (\"smote\", SMOTE(random_state=RANDOM_STATE)),\n",
    "    (\"clf\", logreg_plain),\n",
    "])\n",
    "\n",
    "res_bal_w = cross_validate(pipe_bal_w, X_w, y, cv=cv, scoring=scoring, n_jobs=-1)\n",
    "res_smt_w = cross_validate(pipe_smote_w, X_w, y, cv=cv, scoring=scoring, n_jobs=-1)\n",
    "\n",
    "comp_w = pd.DataFrame({\n",
    "    \"metric\": list(scoring.keys()),\n",
    "    \"Balanced_mean\": [res_bal_w[f\"test_{m}\"].mean() for m in scoring],\n",
    "    \"Balanced_std\":  [res_bal_w[f\"test_{m}\"].std()  for m in scoring],\n",
    "    \"SMOTE_mean\":    [res_smt_w[f\"test_{m}\"].mean() for m in scoring],\n",
    "    \"SMOTE_std\":     [res_smt_w[f\"test_{m}\"].std()  for m in scoring],\n",
    "}).round(4)\n",
    "\n",
    "for m in scoring:\n",
    "    comp_w[f\"Δ_{m}\"] = (comp_w[f\"SMOTE_mean\"] - comp_w[f\"Balanced_mean\"]).round(4)\n",
    "\n",
    "comp_w"
   ]
  },
  {
   "cell_type": "markdown",
   "metadata": {},
   "source": [
    "For the **TF-IDF Weighted embeddings**, the results mirror the unweighted case:  \n",
    "\n",
    "- **Accuracy and F1**: SMOTE shows small improvements (+0.010 in accuracy, +0.008 in F1).  \n",
    "- **ROC-AUC and Balanced Accuracy**: slightly worse with SMOTE (−0.003 and −0.0002, respectively).  \n",
    "\n",
    "Overall, the differences remain marginal.  \n",
    "As with the unweighted embeddings, **class weighting alone is sufficient**, and SMOTE does not provide a consistent or meaningful advantage here."
   ]
  },
  {
   "cell_type": "code",
   "execution_count": null,
   "metadata": {},
   "outputs": [],
   "source": [
    "plot_df = comp.set_index(\"metric\")[[\"Δ_f1\", \"Δ_bacc\", \"Δ_roc_auc\", \"Δ_acc\"]]\n",
    "ax = plot_df.plot(kind=\"bar\", figsize=(7,4), edgecolor=\"black\")\n",
    "ax.axhline(0, linewidth=1)\n",
    "ax.set_title(\"SMOTE - Balanced (Unweighted Embeddings) — Δ by metric\")\n",
    "ax.set_ylabel(\"Δ score\")\n",
    "plt.tight_layout()\n",
    "plt.show()"
   ]
  },
  {
   "cell_type": "markdown",
   "metadata": {},
   "source": [
    "The bar chart visualizes the effect of SMOTE compared to class weighting on unweighted embeddings.  \n",
    "\n",
    "- **Accuracy and F1**: both see slight gains with SMOTE.  \n",
    "- **ROC-AUC and Balanced Accuracy**: both decrease a little under SMOTE.  \n",
    "\n",
    "The changes are very small in all cases, reinforcing that **SMOTE does not meaningfully improve performance** over using class weights alone."
   ]
  },
  {
   "cell_type": "code",
   "execution_count": null,
   "metadata": {},
   "outputs": [],
   "source": [
    "leaderboard = df_all_sorted[[\"Exp\", \"f1_mean\", \"roc_auc_mean\", \"bacc_mean\", \"acc_mean\"]].round(4)\n",
    "leaderboard"
   ]
  },
  {
   "cell_type": "markdown",
   "metadata": {},
   "source": [
    "To wrap up **Question 1**, we build a leaderboard of all models and feature representations, sorted by **F1 score**.  \n",
    "This gives a clear view of which combinations perform best across multiple metrics.  \n",
    "\n",
    "**Key takeaways from the leaderboard:**  \n",
    "- **Top performer:** Multinomial Naive Bayes with BoW (**F1 = 0.923, ROC-AUC = 0.900**).  \n",
    "- **Close second:** Random Forest with BoW (**F1 = 0.919**), though its balanced accuracy (0.649) is weaker, showing less reliability on the minority class.  \n",
    "- **Strong embeddings:** MLP on unweighted embeddings (**F1 = 0.906**) and weighted embeddings (**F1 = 0.903**) outperform linear models with embeddings, but still trail BoW methods.  \n",
    "- **Linear models (LogReg, SVM):** Consistently favor BoW, achieving solid but not top results.  \n",
    "- **Histogram Gradient Boosting:** Reasonable with embeddings (**F1 ~0.88**), but again below the BoW-based models.  \n",
    "\n",
    "**Conclusion for Q1:**  \n",
    "Bag-of-Words is the most effective representation for this dataset, especially with simpler models like Naive Bayes and Random Forest.  \n",
    "While embeddings paired with MLP show promise, they do not surpass BoW approaches.  \n",
    "For handling class imbalance, **balanced class weights are sufficient**, with SMOTE offering no clear advantage."
   ]
  },
  {
   "cell_type": "markdown",
   "metadata": {},
   "source": [
    "#### 3.2.3 Summary  \n",
    "\n",
    "In **Question 1**, we compared different feature representations and models to see which setup performs best for classifying clothing reviews.  \n",
    "\n",
    "- **BoW representations** consistently outperformed embeddings, with **Multinomial Naive Bayes (F1 = 0.923)** and **Random Forest (F1 = 0.919)** leading the results.  \n",
    "- **Logistic Regression and SVM** also favored BoW, achieving solid F1 scores (~0.90) but not surpassing Naive Bayes.  \n",
    "- **Embedding-based models** worked better with non-linear classifiers like MLP, reaching F1 ≈ 0.906, though still below BoW methods.  \n",
    "- **Imbalance handling:** Using `class_weight=\"balanced\"` was already effective, while SMOTE offered only marginal changes and no consistent improvements.  \n",
    "\n",
    "**Overall:** The simplest representation (BoW) with lightweight models (Naive Bayes, Random Forest) provided the strongest and most reliable performance."
   ]
  },
  {
   "cell_type": "markdown",
   "metadata": {},
   "source": [
    "### 3.3 Question 2 — Does more information help?\n",
    "\n",
    "In Task 2, we focused only on the **review text** when generating feature representations.  \n",
    "Now, we expand our investigation to see whether adding the **review title** improves classification performance.  \n",
    "\n",
    "We compare three input settings:  \n",
    "- **Title only**  \n",
    "- **Text only** (baseline from Q1)  \n",
    "- **Title + Text** (concatenated into a single document)  \n",
    "\n",
    "Each input is tested across the same feature types (BoW, Unweighted embeddings, TF-IDF Weighted embeddings) and models, using the same evaluation setup as in Q1.  \n",
    "This allows us to directly measure the contribution of Title information to model performance."
   ]
  },
  {
   "cell_type": "markdown",
   "metadata": {},
   "source": [
    "#### 3.3.1 Baseline Models Experiement"
   ]
  },
  {
   "cell_type": "markdown",
   "metadata": {},
   "source": [
    "We first prepare the inputs for Q2.  \n",
    "If `Title` exists, we clean it and **tokenize with the same regex** from Task 1 to stay consistent.  \n",
    "We then build three text variants:\n",
    "\n",
    "- **Title only** (`titles_clean`)  \n",
    "- **Text only** (`texts_clean`, from Task 1 tokens)  \n",
    "- **Title + Text** (`combo_clean`, concatenated and re-spaced)\n",
    "\n",
    "A quick print verifies that the strings look correct before vectorizing."
   ]
  },
  {
   "cell_type": "code",
   "execution_count": null,
   "metadata": {},
   "outputs": [],
   "source": [
    "# Reuse: df (processed.csv loaded), vocab, tokenizer/tokenize(), ft_model, idf_weights, cv, scoring, y\n",
    "assert 'Recommended IND' in df.columns, \"Target column not found.\""
   ]
  },
  {
   "cell_type": "code",
   "execution_count": null,
   "metadata": {},
   "outputs": [],
   "source": [
    "# Use Title if available; otherwise fill with blanks (so code still runs)\n",
    "if 'Title' in df.columns:\n",
    "    titles_raw = df['Title'].fillna('').astype(str)\n",
    "else:\n",
    "    print(\"WARNING: 'Title' column not found in df; Title-only/Title+Text will be blank.\")\n",
    "    titles_raw = pd.Series([''] * len(df), index=df.index)\n",
    "\n",
    "# Text corpus from your processed tokens (already cleaned in Task 1)\n",
    "texts_clean = df['tokens_typo_fixed'].fillna('').astype(str)\n",
    "\n",
    "# Tokenize title with the same regex rule to keep consistency\n",
    "titles_clean = titles_raw.apply(lambda s: \" \".join(tokenize(s)))\n",
    "\n",
    "# Concatenate Title + Text (already space-separated tokens)\n",
    "combo_clean = (titles_clean.str.cat(texts_clean, sep=\" \").str.replace(r\"\\s+\", \" \", regex=True).str.strip())\n",
    "\n",
    "# Quick sanity\n",
    "print(\"Examples:\\nTITLE ->\", titles_clean.iloc[0][:100])\n",
    "print(\"TEXT  ->\", texts_clean.iloc[0][:100])\n",
    "print(\"COMBO ->\", combo_clean.iloc[0][:100])"
   ]
  },
  {
   "cell_type": "markdown",
   "metadata": {},
   "source": [
    "Next, we build feature matrices for the three **input variants** (Title, Text, Title+Text) across all **representation types**:\n",
    "\n",
    "- **BoW (Count)**: reuse the fixed vocabulary from Task 1 to keep indices consistent.  \n",
    "- **Unweighted embeddings**: mean of FastText vectors per document.  \n",
    "- **TF-IDF weighted embeddings**: FastText vectors scaled by IDF learned from **Review Text** (same weights as in Task 2).\n",
    "\n",
    "We then print the shapes to confirm that Title, Text, and Title+Text versions align with each other and with `y`."
   ]
  },
  {
   "cell_type": "code",
   "execution_count": null,
   "metadata": {},
   "outputs": [],
   "source": [
    "# --- BoW (reuse the same vocabulary from Task 1, as required) ---\n",
    "cv_bow = CountVectorizer(vocabulary=vocab)\n",
    "X_title_bow = cv_bow.transform(titles_clean)\n",
    "# You already have X_bow for Text-only; if not, uncomment:\n",
    "# X_text_bow  = cv_bow.transform(texts_clean)\n",
    "X_combo_bow = cv_bow.transform(combo_clean)\n",
    "\n",
    "# --- Unweighted embeddings (mean of word vectors) ---\n",
    "def doc_avg_embedding(doc_str):\n",
    "    toks = tokenize(doc_str)\n",
    "    vecs = [ft_model[t] for t in toks if t in ft_model]\n",
    "    if not vecs:\n",
    "        return np.zeros(ft_model.vector_size, dtype=np.float32)\n",
    "    return np.mean(vecs, axis=0)\n",
    "\n",
    "X_title_unw = np.vstack([doc_avg_embedding(s) for s in titles_clean])\n",
    "# You already have X_unw for Text-only\n",
    "X_combo_unw = np.vstack([doc_avg_embedding(s) for s in combo_clean])\n",
    "\n",
    "# --- TF-IDF weighted embeddings (uses IDF learned from Review Text) ---\n",
    "def doc_tfidf_weighted_embedding(doc_str):\n",
    "    toks = tokenize(doc_str)\n",
    "    vec_sum, w_sum = None, 0.0\n",
    "    for t in toks:\n",
    "        if (t in ft_model) and (t in idf_weights):  # keep only tokens known to IDF from Review Text\n",
    "            w = float(idf_weights[t])\n",
    "            v = ft_model[t] * w\n",
    "            vec_sum = v if vec_sum is None else (vec_sum + v)\n",
    "            w_sum += w\n",
    "    if (vec_sum is None) or (w_sum == 0.0):\n",
    "        return np.zeros(ft_model.vector_size, dtype=np.float32)\n",
    "    return (vec_sum / w_sum)\n",
    "\n",
    "X_title_w = np.vstack([doc_tfidf_weighted_embedding(s) for s in titles_clean])\n",
    "# You already have X_w for Text-only\n",
    "X_combo_w = np.vstack([doc_tfidf_weighted_embedding(s) for s in combo_clean])\n",
    "\n",
    "print(\"Shapes | BoW:\", X_title_bow.shape, X_bow.shape, X_combo_bow.shape,\n",
    "      \"| Unw:\", X_title_unw.shape, X_unw.shape, X_combo_unw.shape,\n",
    "      \"| W:\", X_title_w.shape, X_w.shape, X_combo_w.shape)"
   ]
  },
  {
   "cell_type": "markdown",
   "metadata": {},
   "source": [
    "We begin our Q2 experiments with a **Logistic Regression** model using `class_weight=\"balanced\"`.  \n",
    "This ensures that minority and majority classes are treated fairly during training.  \n",
    "\n",
    "As before:  \n",
    "- **BoW (Count vectors)** is used directly without scaling.  \n",
    "- **Unweighted embeddings** are scaled before classification.  \n",
    "- **TF-IDF Weighted embeddings** are also scaled.  \n",
    "\n",
    "These pipelines set up a consistent baseline to evaluate the impact of adding **Title** information in the next steps."
   ]
  },
  {
   "cell_type": "code",
   "execution_count": null,
   "metadata": {},
   "outputs": [],
   "source": [
    "logreg_bal = LogisticRegression(max_iter=2000, class_weight=\"balanced\", n_jobs=-1, random_state=42)\n",
    "\n",
    "pipe_bow = Pipeline([(\"clf\", logreg_bal)])  # no scaler for sparse BoW\n",
    "pipe_unw = Pipeline([(\"scaler\", StandardScaler()), (\"clf\", logreg_bal)])\n",
    "pipe_w   = Pipeline([(\"scaler\", StandardScaler()), (\"clf\", logreg_bal)])"
   ]
  },
  {
   "cell_type": "markdown",
   "metadata": {},
   "source": [
    "We now evaluate **Logistic Regression (balanced)** across all three input settings:  \n",
    "- **Title only**  \n",
    "- **Text only**  \n",
    "- **Title + Text**  \n",
    "\n",
    "For each input, we test the three representation types (BoW, Unweighted embeddings, TF-IDF Weighted embeddings).  \n",
    "We use a helper function `cv_means` to run 5-fold CV and return the mean scores for all metrics.  \n",
    "\n",
    "The results are collected into a dataframe, rounded for readability, and sorted within each representation by **F1 score**.  \n",
    "This allows us to directly compare the effect of adding Title information to the models."
   ]
  },
  {
   "cell_type": "code",
   "execution_count": null,
   "metadata": {},
   "outputs": [],
   "source": [
    "def cv_means(pipe, X, y):\n",
    "    res = cross_validate(pipe, X, y, cv=cv, scoring=scoring, n_jobs=-1, return_train_score=False)\n",
    "    return {f\"mean_{m}\": float(np.mean(res[f\"test_{m}\"])) for m in scoring}\n",
    "\n",
    "rows = []\n",
    "# BoW\n",
    "rows.append({\"Rep\":\"BoW\", \"Input\":\"Title\",      **cv_means(pipe_bow, X_title_bow, y)})\n",
    "rows.append({\"Rep\":\"BoW\", \"Input\":\"Text\",       **cv_means(pipe_bow, X_bow,       y)})\n",
    "rows.append({\"Rep\":\"BoW\", \"Input\":\"Title+Text\", **cv_means(pipe_bow, X_combo_bow, y)})\n",
    "\n",
    "# Unweighted\n",
    "rows.append({\"Rep\":\"Unweighted\", \"Input\":\"Title\",      **cv_means(pipe_unw, X_title_unw, y)})\n",
    "rows.append({\"Rep\":\"Unweighted\", \"Input\":\"Text\",       **cv_means(pipe_unw, X_unw,       y)})\n",
    "rows.append({\"Rep\":\"Unweighted\", \"Input\":\"Title+Text\", **cv_means(pipe_unw, X_combo_unw, y)})\n",
    "\n",
    "# Weighted\n",
    "rows.append({\"Rep\":\"Weighted\", \"Input\":\"Title\",      **cv_means(pipe_w, X_title_w, y)})\n",
    "rows.append({\"Rep\":\"Weighted\", \"Input\":\"Text\",       **cv_means(pipe_w, X_w,       y)})\n",
    "rows.append({\"Rep\":\"Weighted\", \"Input\":\"Title+Text\", **cv_means(pipe_w, X_combo_w, y)})\n",
    "\n",
    "q2_results = pd.DataFrame(rows)\n",
    "for c in [c for c in q2_results.columns if c.startswith(\"mean_\")]:\n",
    "    q2_results[c] = q2_results[c].round(4)\n",
    "\n",
    "q2_results = q2_results.sort_values([\"Rep\",\"mean_f1\"], ascending=[True, False]).reset_index(drop=True)\n",
    "q2_results"
   ]
  },
  {
   "cell_type": "markdown",
   "metadata": {},
   "source": [
    "The results show that adding the **Title** information consistently improves performance across all representations:  \n",
    "\n",
    "- **BoW**:  \n",
    "  - **Title+Text** gives the best overall performance (**F1 = 0.924**, **ROC-AUC = 0.922**), a clear gain over **Text only (F1 = 0.905)**.  \n",
    "  - **Title only** performs weaker than Text, but still provides reasonable scores (F1 = 0.886).  \n",
    "\n",
    "- **Unweighted embeddings**:  \n",
    "  - **Title+Text** also improves results (**F1 = 0.899**) compared to Text only (**F1 = 0.865**).  \n",
    "  - Title alone performs slightly below Title+Text but still better than Text alone.  \n",
    "\n",
    "- **TF-IDF Weighted embeddings**:  \n",
    "  - The same pattern holds, with **Title+Text** (F1 = 0.885) outperforming Text only (**F1 = 0.857**).  \n",
    "  - Title alone (F1 = 0.871) again shows better results than Text only.  \n",
    "\n",
    "**Conclusion:** Incorporating **Title information** boosts classification performance in all cases, with the strongest gains seen in the **BoW model**. Title by itself is not as strong as Text, but when combined, it clearly enhances accuracy and F1."
   ]
  },
  {
   "cell_type": "markdown",
   "metadata": {},
   "source": [
    "To make the impact of **Title** more explicit, we calculate the **delta (Δ)** of each metric relative to the **Text-only baseline**.  \n",
    "\n",
    "For each representation (BoW, Unweighted, Weighted):  \n",
    "- We take the performance of **Text only** as the baseline.  \n",
    "- We compute the difference (Δ) for **Title** and **Title+Text** across all metrics (F1, Balanced Accuracy, ROC-AUC, Accuracy).  \n",
    "\n",
    "This highlights how much value Title information adds, either on its own or when combined with Text."
   ]
  },
  {
   "cell_type": "code",
   "execution_count": null,
   "metadata": {},
   "outputs": [],
   "source": [
    "def deltas_vs_text(df):\n",
    "    out = []\n",
    "    for rep, grp in df.groupby(\"Rep\"):\n",
    "        # find the Text-only row as baseline\n",
    "        base = grp.loc[grp[\"Input\"]==\"Text\"].iloc[0]\n",
    "        for _, row in grp.iterrows():\n",
    "            d = {\"Rep\": rep, \"Input\": row[\"Input\"]}\n",
    "            for m in [\"mean_f1\",\"mean_bacc\",\"mean_roc_auc\",\"mean_acc\"]:\n",
    "                if m in row and m in base:\n",
    "                    d[f\"Δ_{m.replace('mean_','')}\"] = (row[m] - base[m]).round(4)\n",
    "            out.append(d)\n",
    "    return pd.DataFrame(out)\n",
    "\n",
    "q2_delta = deltas_vs_text(q2_results)\n",
    "q2_delta"
   ]
  },
  {
   "cell_type": "markdown",
   "metadata": {},
   "source": [
    "The Δ table shows the performance change relative to **Text only**:  \n",
    "\n",
    "- **BoW**:  \n",
    "  - Adding Title to Text gives a modest boost (**+0.020 F1, +0.036 Balanced Accuracy, +0.034 ROC-AUC**).  \n",
    "  - Title alone underperforms Text (**−0.019 F1**), confirming it’s not as informative by itself.  \n",
    "\n",
    "- **Unweighted embeddings**:  \n",
    "  - Title+Text provides the largest gains (**+0.034 F1, +0.050 Balanced Accuracy, +0.049 ROC-AUC**).  \n",
    "  - Even Title alone improves results over Text-only (**+0.024 F1**).  \n",
    "\n",
    "- **TF-IDF Weighted embeddings**:  \n",
    "  - Similar trend: Title+Text outperforms Text-only (**+0.029 F1, +0.043 Balanced Accuracy, +0.043 ROC-AUC**).  \n",
    "  - Title alone offers smaller but still positive improvements (**+0.014 F1**).  \n",
    "\n",
    "**Summary:** Adding the Title consistently improves classification across all representations, with the strongest relative boost in **Unweighted embeddings**, followed by Weighted embeddings and BoW. Title on its own is weaker than Text, but still better than nothing."
   ]
  },
  {
   "cell_type": "code",
   "execution_count": null,
   "metadata": {},
   "outputs": [],
   "source": [
    "plot_df = q2_delta[q2_delta[\"Input\"]!=\"Text\"].pivot(index=\"Rep\", columns=\"Input\", values=\"Δ_f1\")\n",
    "ax = plot_df.plot(kind=\"bar\", figsize=(6.0,4.0), edgecolor=\"black\")\n",
    "ax.axhline(0, linewidth=1)\n",
    "ax.set_ylabel(\"Δ F1 vs Text-only\")\n",
    "ax.set_title(\"Q2 — Effect of adding Title\")\n",
    "plt.tight_layout()\n",
    "plt.show()"
   ]
  },
  {
   "cell_type": "markdown",
   "metadata": {},
   "source": [
    "The plot clearly shows how adding **Title** affects F1 compared to using **Text only**:  \n",
    "\n",
    "- **BoW**: Title alone hurts performance (negative ΔF1), but Title+Text gives a small boost.  \n",
    "- **Unweighted embeddings**: Adding Title produces the strongest improvements, especially when combined with Text (**ΔF1 ≈ +0.034**).  \n",
    "- **Weighted embeddings**: Both Title and Title+Text help, with Title+Text again giving the larger gain.  \n",
    "\n",
    "**Takeaway:** Title information is most valuable when combined with Text, consistently raising F1 across all representations — with the largest benefit seen in the **Unweighted embeddings**.  "
   ]
  },
  {
   "cell_type": "markdown",
   "metadata": {},
   "source": [
    "#### 3.3.2 Additional Models Experiement"
   ]
  },
  {
   "cell_type": "markdown",
   "metadata": {},
   "source": [
    "To ensure reproducibility, we **rebuild** all three input variants (Title, Text, Title+Text) and regenerate their feature matrices from scratch:\n",
    "\n",
    "1) **Inputs** — clean/tokenize `Title`, keep `Text` from Task 1, and concatenate for `Title+Text`.  \n",
    "2) **BoW** — vectorize with the **fixed Task 1 vocabulary** (keeps indices consistent).  \n",
    "3) **Unweighted embeddings** — FastText mean per document.  \n",
    "4) **TF-IDF weighted embeddings** — FastText vectors scaled by IDF learned from **Review Text**.\n",
    "\n",
    "We then print shapes for (Title, Text, Title+Text) under each representation to confirm alignment before modeling."
   ]
  },
  {
   "cell_type": "code",
   "execution_count": null,
   "metadata": {},
   "outputs": [],
   "source": [
    "# Inputs (recreate safely)\n",
    "titles_raw = df['Title'].fillna('').astype(str) if 'Title' in df.columns else pd.Series(['']*len(df), index=df.index)\n",
    "texts_clean = df['tokens_typo_fixed'].fillna('').astype(str)  # from Task 1\n",
    "titles_clean = titles_raw.apply(lambda s: \" \".join(tokenize(s)))\n",
    "combo_clean = (titles_clean.str.cat(texts_clean, sep=\" \")\n",
    "               .str.replace(r\"\\s+\", \" \", regex=True).str.strip())"
   ]
  },
  {
   "cell_type": "code",
   "execution_count": null,
   "metadata": {},
   "outputs": [],
   "source": [
    "# BoW (fixed vocab from Task 1)\n",
    "cv_bow = CountVectorizer(vocabulary=vocab)\n",
    "X_title_bow = cv_bow.transform(titles_clean)\n",
    "X_text_bow  = cv_bow.transform(texts_clean)   # (alias of your X_bow, rebuilt for completeness)\n",
    "X_combo_bow = cv_bow.transform(combo_clean)"
   ]
  },
  {
   "cell_type": "code",
   "execution_count": null,
   "metadata": {},
   "outputs": [],
   "source": [
    "# Unweighted embeddings\n",
    "def doc_avg_embedding(doc_str):\n",
    "    toks = tokenize(doc_str)\n",
    "    vecs = [ft_model[t] for t in toks if t in ft_model]\n",
    "    return np.mean(vecs, axis=0) if vecs else np.zeros(ft_model.vector_size, dtype=np.float32)\n",
    "\n",
    "X_title_unw = np.vstack([doc_avg_embedding(s) for s in titles_clean])\n",
    "X_text_unw  = np.vstack([doc_avg_embedding(s) for s in texts_clean])    # (alias of X_unw)\n",
    "X_combo_unw = np.vstack([doc_avg_embedding(s) for s in combo_clean])"
   ]
  },
  {
   "cell_type": "code",
   "execution_count": null,
   "metadata": {},
   "outputs": [],
   "source": [
    "# TF-IDF weighted embeddings (reuse idf_weights from Text)\n",
    "def doc_tfidf_weighted_embedding(doc_str):\n",
    "    toks = tokenize(doc_str); wsum = 0.0; acc = None\n",
    "    for t in toks:\n",
    "        if (t in ft_model) and (t in idf_weights):\n",
    "            w = float(idf_weights[t]); v = ft_model[t] * w\n",
    "            acc = v if acc is None else (acc + v); wsum += w\n",
    "    return (acc / wsum) if (acc is not None and wsum>0) else np.zeros(ft_model.vector_size, dtype=np.float32)\n",
    "\n",
    "X_title_w = np.vstack([doc_tfidf_weighted_embedding(s) for s in titles_clean])\n",
    "X_text_w  = np.vstack([doc_tfidf_weighted_embedding(s) for s in texts_clean])   # (alias of X_w)\n",
    "X_combo_w = np.vstack([doc_tfidf_weighted_embedding(s) for s in combo_clean])"
   ]
  },
  {
   "cell_type": "code",
   "execution_count": null,
   "metadata": {},
   "outputs": [],
   "source": [
    "print(\"BoW   :\", X_title_bow.shape, X_text_bow.shape, X_combo_bow.shape)\n",
    "print(\"Unw   :\", X_title_unw.shape,  X_text_unw.shape,  X_combo_unw.shape)\n",
    "print(\"TF-IDF:\", X_title_w.shape,    X_text_w.shape,    X_combo_w.shape)"
   ]
  },
  {
   "cell_type": "markdown",
   "metadata": {},
   "source": [
    "We now define the set of models to be tested in **Question 2**.  \n",
    "As in Q1, we separate them into two groups depending on the representation type:  \n",
    "\n",
    "- **Sparse-friendly (BoW)**:  \n",
    "  - Logistic Regression (balanced)  \n",
    "  - Linear SVM (balanced)  \n",
    "  - Multinomial Naive Bayes  \n",
    "  - Random Forest (balanced)  \n",
    "\n",
    "- **Dense-friendly (Embeddings)**:  \n",
    "  - Logistic Regression (balanced)  \n",
    "  - Linear SVM (balanced)  \n",
    "  - Histogram-based Gradient Boosting (balanced)  \n",
    "  - Multi-Layer Perceptron (MLP, 128 hidden units)  \n",
    "\n",
    "This mix covers both linear and non-linear models, ensuring a fair comparison of BoW vs embedding representations with Title, Text, and Title+Text inputs."
   ]
  },
  {
   "cell_type": "code",
   "execution_count": null,
   "metadata": {},
   "outputs": [],
   "source": [
    "RANDOM_STATE = 42\n",
    "\n",
    "# Sparse-friendly (BoW)\n",
    "models_bow = {\n",
    "    \"LogReg (balanced)\": LogisticRegression(max_iter=2000, class_weight=\"balanced\", n_jobs=-1, random_state=RANDOM_STATE),\n",
    "    \"LinearSVC (balanced)\": LinearSVC(class_weight=\"balanced\", random_state=RANDOM_STATE),\n",
    "    \"MultinomialNB\": MultinomialNB(),\n",
    "    \"RandomForest (balanced)\": RandomForestClassifier(\n",
    "        n_estimators=250, class_weight=\"balanced\", n_jobs=-1, random_state=RANDOM_STATE\n",
    "    ),\n",
    "}\n",
    "\n",
    "# Dense-friendly (Embeddings)\n",
    "models_dense = {\n",
    "    \"LogReg (balanced)\": LogisticRegression(max_iter=2000, class_weight=\"balanced\", n_jobs=-1, random_state=RANDOM_STATE),\n",
    "    \"LinearSVC (balanced)\": LinearSVC(class_weight=\"balanced\", random_state=RANDOM_STATE),\n",
    "    \"HistGB (balanced)\": HistGradientBoostingClassifier(random_state=RANDOM_STATE, class_weight=\"balanced\"),\n",
    "    \"MLP (128)\": MLPClassifier(hidden_layer_sizes=(128,), max_iter=80, random_state=RANDOM_STATE),\n",
    "}"
   ]
  },
  {
   "cell_type": "markdown",
   "metadata": {},
   "source": [
    "To evaluate multiple models efficiently, we define a helper function `evaluate_pipeline`.  \n",
    "It runs **cross-validation** on a given pipeline, collects all metric scores, and returns a summary row:  \n",
    "\n",
    "- Includes the experiment name (`RepInputModel`)  \n",
    "- Stores the **mean** and **standard deviation** for each metric (Accuracy, F1, ROC-AUC, Balanced Accuracy)  \n",
    "\n",
    "This structure makes it easier to aggregate results across different representations, inputs, and models in a single dataframe."
   ]
  },
  {
   "cell_type": "code",
   "execution_count": null,
   "metadata": {},
   "outputs": [],
   "source": [
    "def evaluate_pipeline(exp_name, pipe, X, y, cv=cv, scoring=scoring):\n",
    "    res = cross_validate(pipe, X, y, cv=cv, scoring=scoring, n_jobs=-1, return_train_score=False)\n",
    "    row = {\"RepInputModel\": exp_name}\n",
    "    for m in scoring:\n",
    "        row[f\"{m}_mean\"] = float(np.mean(res[f\"test_{m}\"]))\n",
    "        row[f\"{m}_std\"]  = float(np.std(res[f\"test_{m}\"]))\n",
    "    return row"
   ]
  },
  {
   "cell_type": "markdown",
   "metadata": {},
   "source": [
    "We now run **all models** across every **representation** (BoW, Unweighted, Weighted) and **input** (Title, Text, Title+Text).\n",
    "\n",
    "- `run_block(...)` builds a pipeline per model, scaling only for dense embeddings.\n",
    "- Each experiment is evaluated with 5-fold CV via `evaluate_pipeline`, and the results are appended to a list.\n",
    "- We then unpack the composite experiment name into **Rep / Input / Model** and build a **leaderboard** sorted by **F1** (primary metric under imbalance), with **ROC-AUC** as a tiebreaker.\n",
    "\n",
    "The table below shows the top results (rounded) for quick comparison."
   ]
  },
  {
   "cell_type": "markdown",
   "metadata": {},
   "source": [
    "We reuse the **model definitions** from Q1 and apply them to Q2.  \n",
    "The models are grouped by representation type:  \n",
    "\n",
    "- **Sparse-friendly (BoW):**  \n",
    "  Logistic Regression (balanced), Linear SVM (balanced), Multinomial Naive Bayes, Random Forest (balanced).  \n",
    "\n",
    "- **Dense-friendly (Embeddings):**  \n",
    "  Logistic Regression (balanced), Linear SVM (balanced), Histogram Gradient Boosting (balanced), and MLP (128 hidden units).  \n",
    "\n",
    "This ensures consistency in comparing performance across **Title**, **Text**, and **Title+Text** inputs for each representation."
   ]
  },
  {
   "cell_type": "code",
   "execution_count": null,
   "metadata": {},
   "outputs": [],
   "source": [
    "results = []\n",
    "\n",
    "# Helper to push rows\n",
    "def run_block(rep, input_name, Xmat, model_dict, needs_scaler=False):\n",
    "    for mname, clf in model_dict.items():\n",
    "        if needs_scaler:\n",
    "            pipe = Pipeline([(\"scaler\", StandardScaler()), (\"clf\", clf)])\n",
    "        else:\n",
    "            pipe = Pipeline([(\"clf\", clf)])\n",
    "        tag = f\"{rep} | {input_name} | {mname}\"\n",
    "        results.append(evaluate_pipeline(tag, pipe, Xmat, y))\n",
    "\n",
    "# BoW (no scaler)\n",
    "run_block(\"BoW\", \"Title\",      X_title_bow, models_bow, needs_scaler=False)\n",
    "run_block(\"BoW\", \"Text\",       X_text_bow,  models_bow, needs_scaler=False)\n",
    "run_block(\"BoW\", \"Title+Text\", X_combo_bow, models_bow, needs_scaler=False)\n",
    "\n",
    "# Unweighted (scale)\n",
    "run_block(\"Unweighted\", \"Title\",      X_title_unw, models_dense, needs_scaler=True)\n",
    "run_block(\"Unweighted\", \"Text\",       X_text_unw,  models_dense, needs_scaler=True)\n",
    "run_block(\"Unweighted\", \"Title+Text\", X_combo_unw, models_dense, needs_scaler=True)\n",
    "\n",
    "# Weighted (scale)\n",
    "run_block(\"Weighted\", \"Title\",      X_title_w, models_dense, needs_scaler=True)\n",
    "run_block(\"Weighted\", \"Text\",       X_text_w,  models_dense, needs_scaler=True)\n",
    "run_block(\"Weighted\", \"Title+Text\", X_combo_w, models_dense, needs_scaler=True)\n",
    "\n",
    "df_q2_all = pd.DataFrame(results)\n",
    "# Split composite name for readability\n",
    "df_q2_all[[\"Rep\",\"Input\",\"Model\"]] = df_q2_all[\"RepInputModel\"].str.split(\" \\| \", expand=True)\n",
    "df_q2_all = df_q2_all.drop(columns=[\"RepInputModel\"])\n",
    "\n",
    "# Leaderboard by F1\n",
    "cols = [\"Rep\",\"Input\",\"Model\",\"f1_mean\",\"roc_auc_mean\",\"bacc_mean\",\"acc_mean\"]\n",
    "df_q2_all_leader = df_q2_all[cols].sort_values([\"f1_mean\",\"roc_auc_mean\"], ascending=False).round(4).reset_index(drop=True)\n",
    "df_q2_all_leader.head(20)"
   ]
  },
  {
   "cell_type": "markdown",
   "metadata": {},
   "source": [
    "The Q2 leaderboard highlights the value of **Title information** across different models and representations:  \n",
    "\n",
    "- **Top performer:**  \n",
    "  - **BoW + Title+Text with MultinomialNB** achieves the best overall scores (**F1 = 0.931, ROC-AUC = 0.931, Balanced Accuracy = 0.841**).  \n",
    "  - This shows that combining Title with Text produces a clear improvement over Text alone.  \n",
    "\n",
    "- **Other strong setups:**  \n",
    "  - **BoW + Title+Text with Random Forest** (**F1 = 0.928**) and **Logistic Regression** (**F1 = 0.924**) also perform extremely well.  \n",
    "  - **Unweighted embeddings + MLP** is the best among embedding models (**F1 ≈ 0.926 with Title, 0.926 with Title+Text**), confirming that neural models make better use of dense vectors.  \n",
    "\n",
    "- **Comparisons to Text-only baselines:**  \n",
    "  - MultinomialNB with **Text only** scored F1 = 0.923, while adding Title+Text pushed it to 0.931.  \n",
    "  - Similarly, MLP on **Text only** embeddings had F1 = 0.906, but adding Title raised it to ~0.926.  \n",
    "\n",
    "- **Balanced Accuracy patterns:**  \n",
    "  - BoW + Logistic Regression and BoW + MultinomialNB deliver the best balance across both classes (Balanced Accuracy ≈ 0.84).  \n",
    "  - Random Forest, while strong on F1, lags in Balanced Accuracy (0.697), indicating weaker minority-class sensitivity.  \n",
    "\n",
    "**Conclusion:**  \n",
    "Adding **Title information** improves performance across all settings, with the biggest gains seen in **BoW models** (especially MultinomialNB).  \n",
    "Among embeddings, **MLP** benefits most from Title, but still does not surpass the top BoW methods."
   ]
  },
  {
   "cell_type": "markdown",
   "metadata": {},
   "source": [
    "To test imbalance handling in Q2, we compare **Logistic Regression (balanced class weights)** with **Logistic Regression + SMOTE oversampling**.  \n",
    "We run this comparison on both **Unweighted** and **TF-IDF Weighted embeddings** for all three input settings (Title, Text, Title+Text).  \n",
    "\n",
    "The helper `smote_compare_block` runs both pipelines, collects mean scores, and computes the **Δ (SMOTE − Balanced)** for each metric.  \n",
    "This lets us see if oversampling adds value beyond class weighting when Title information is included."
   ]
  },
  {
   "cell_type": "code",
   "execution_count": null,
   "metadata": {},
   "outputs": [],
   "source": [
    "logreg_bal = LogisticRegression(max_iter=2000, class_weight=\"balanced\", n_jobs=-1, random_state=RANDOM_STATE)\n",
    "logreg_nomw = LogisticRegression(max_iter=2000, class_weight=None, n_jobs=-1, random_state=RANDOM_STATE)\n",
    "\n",
    "def smote_compare_block(rep, input_name, X_dense):\n",
    "    pipe_bal = Pipeline([(\"scaler\", StandardScaler()), (\"clf\", logreg_bal)])\n",
    "    pipe_smt = ImbPipeline([(\"scaler\", StandardScaler()),\n",
    "                            (\"smote\", SMOTE(random_state=RANDOM_STATE)),\n",
    "                            (\"clf\", logreg_nomw)])\n",
    "    res_bal = cross_validate(pipe_bal, X_dense, y, cv=cv, scoring=scoring, n_jobs=-1)\n",
    "    res_smt = cross_validate(pipe_smt, X_dense, y, cv=cv, scoring=scoring, n_jobs=-1)\n",
    "    row = {\"Rep\":rep, \"Input\":input_name}\n",
    "    for m in scoring:\n",
    "        row[f\"Balanced_{m}\"] = float(np.mean(res_bal[f\"test_{m}\"]))\n",
    "        row[f\"SMOTE_{m}\"]    = float(np.mean(res_smt[f\"test_{m}\"]))\n",
    "        row[f\"Δ_{m}\"]        = row[f\"SMOTE_{m}\"] - row[f\"Balanced_{m}\"]\n",
    "    return row\n",
    "\n",
    "comp_rows = []\n",
    "# Unweighted\n",
    "comp_rows.append(smote_compare_block(\"Unweighted\", \"Title\",      X_title_unw))\n",
    "comp_rows.append(smote_compare_block(\"Unweighted\", \"Text\",       X_text_unw))\n",
    "comp_rows.append(smote_compare_block(\"Unweighted\", \"Title+Text\", X_combo_unw))\n",
    "# Weighted\n",
    "comp_rows.append(smote_compare_block(\"Weighted\", \"Title\",      X_title_w))\n",
    "comp_rows.append(smote_compare_block(\"Weighted\", \"Text\",       X_text_w))\n",
    "comp_rows.append(smote_compare_block(\"Weighted\", \"Title+Text\", X_combo_w))\n",
    "\n",
    "q2_smote_comp = pd.DataFrame(comp_rows).round(4)\n",
    "q2_smote_comp"
   ]
  },
  {
   "cell_type": "markdown",
   "metadata": {},
   "source": [
    "The comparison between **class weighting** and **SMOTE oversampling** shows consistent but small differences:  \n",
    "\n",
    "- **Unweighted embeddings**:  \n",
    "  - SMOTE improves **Accuracy (+0.6–0.8%)** and **F1 (+0.5–0.6%)** across all inputs (Title, Text, Title+Text).  \n",
    "  - **ROC-AUC and Balanced Accuracy** drop slightly (≈ −0.2 to −0.3%).  \n",
    "  - The best gains are seen with **Title+Text** (ΔF1 = +0.006, ΔAcc = +0.008).  \n",
    "\n",
    "- **TF-IDF Weighted embeddings**:  \n",
    "  - Similar pattern: SMOTE yields small boosts in **Accuracy and F1** (≈ +0.2 to +1.1%) but slightly reduces **ROC-AUC and Balanced Accuracy**.  \n",
    "  - The **largest relative gain** is for **Title+Text** (ΔAcc = +0.011, ΔF1 = +0.008).  \n",
    "\n",
    "**Overall:**  \n",
    "SMOTE consistently raises Accuracy and F1 but at the cost of a minor drop in ROC-AUC and Balanced Accuracy.  \n",
    "This suggests that **class weighting already handles imbalance well**, and while SMOTE provides small extra gains in F1/Accuracy, it does not improve overall robustness across all metrics."
   ]
  },
  {
   "cell_type": "markdown",
   "metadata": {},
   "source": [
    "To better summarize the SMOTE effect, we pivot the comparison table to focus on **ΔF1 (SMOTE − Balanced)**.  \n",
    "This produces a compact view showing the F1 improvement for each representation type (Unweighted, Weighted) across the three input settings (Text, Title, Title+Text).  \n",
    "\n",
    "This format makes it easier to see where SMOTE provides the most benefit."
   ]
  },
  {
   "cell_type": "code",
   "execution_count": null,
   "metadata": {},
   "outputs": [],
   "source": [
    "delta_f1 = q2_smote_comp.pivot(index=[\"Rep\"], columns=[\"Input\"], values=\"Δ_f1\").fillna(0).round(4)\n",
    "delta_f1"
   ]
  },
  {
   "cell_type": "markdown",
   "metadata": {},
   "source": [
    "The ΔF1 table highlights how much SMOTE improves F1 compared to class weighting:  \n",
    "\n",
    "- **Unweighted embeddings:**  \n",
    "  - F1 increases slightly for all inputs (**+0.005 for Text, +0.005 for Title, +0.006 for Title+Text**).  \n",
    "  - The gain is most noticeable with **Title+Text**.  \n",
    "\n",
    "- **Weighted embeddings:**  \n",
    "  - Gains are small but consistent (**+0.008 for Text, +0.002 for Title, +0.008 for Title+Text**).  \n",
    "  - Again, **Title+Text** shows the strongest relative improvement.  \n",
    "\n",
    "**Takeaway:** SMOTE gives a modest F1 boost across all setups, with the largest effect when combining **Title+Text**.  \n",
    "However, the improvements remain small, confirming that class weighting already performs well."
   ]
  },
  {
   "cell_type": "code",
   "execution_count": null,
   "metadata": {},
   "outputs": [],
   "source": [
    "import matplotlib.pyplot as plt\n",
    "\n",
    "ax = delta_f1.plot(kind=\"bar\", figsize=(6,4), edgecolor=\"black\")\n",
    "ax.axhline(0, linewidth=1)\n",
    "ax.set_ylabel(\"Δ F1 (SMOTE - Balanced)\")\n",
    "ax.set_title(\"Q2 — SMOTE effect on embeddings\")\n",
    "plt.tight_layout(); plt.show()"
   ]
  },
  {
   "cell_type": "markdown",
   "metadata": {},
   "source": [
    "The plot shows the F1 improvement (ΔF1) when using **SMOTE vs class weighting** across embedding types and inputs:  \n",
    "\n",
    "- **Unweighted embeddings:**  \n",
    "  - SMOTE gives a small but consistent F1 boost for all inputs (~+0.005).  \n",
    "  - The best gain is for **Title+Text** (~+0.006).  \n",
    "\n",
    "- **Weighted embeddings:**  \n",
    "  - SMOTE has a stronger effect, especially for **Text (+0.008)** and **Title+Text (+0.008)**.  \n",
    "  - The gain for **Title** alone is minimal (~+0.002).  \n",
    "\n",
    "**Takeaway:** SMOTE provides modest improvements in F1, with the biggest benefits seen in **Weighted embeddings with Text or Title+Text**.  \n",
    "However, the improvements are still small overall, reinforcing that **class weighting already handles imbalance effectively**."
   ]
  },
  {
   "cell_type": "markdown",
   "metadata": {},
   "source": [
    "#### 3.3.3 Summary  \n",
    "\n",
    "In **Question 2**, we explored whether adding the **Title** field improves classification performance.  \n",
    "\n",
    "- **Impact of Title information:**  \n",
    "  - Adding **Title+Text** consistently improved results across all representations.  \n",
    "  - The best setup was **BoW + MultinomialNB**, reaching **F1 = 0.931, ROC-AUC = 0.931**, outperforming the Text-only baseline.  \n",
    "  - **Title alone** was weaker than Text, but still better than nothing, and combining it with Text yielded the strongest gains.  \n",
    "\n",
    "- **Model trends:**  \n",
    "  - **BoW models** remained dominant, with Naive Bayes and Random Forest leading the board.  \n",
    "  - **Embedding models** benefited most from **MLP**, which scored F1 ≈ 0.926 with Title or Title+Text, though still below BoW methods.  \n",
    "\n",
    "- **Imbalance handling (Balanced vs SMOTE):**  \n",
    "  - SMOTE gave small boosts in **Accuracy and F1** (up to +0.008) but slightly reduced **ROC-AUC and Balanced Accuracy**.  \n",
    "  - Class weighting alone remained sufficient, with SMOTE offering only marginal improvements.  \n",
    "\n",
    "**Overall:** Including Title enhances model performance, especially when combined with Text.  \n",
    "While embeddings paired with neural models (MLP) show promise, the simplest approach — **BoW + Naive Bayes with Title+Text** — remains the most effective solution for this dataset."
   ]
  },
  {
   "cell_type": "markdown",
   "metadata": {},
   "source": [
    "## Conclusion  \n",
    "\n",
    "In this notebook, we built feature representations and evaluated classification models for women’s clothing reviews.  \n",
    "\n",
    "- **Task 2:** We generated three types of document representations — BoW, unweighted FastText embeddings, and TF-IDF weighted embeddings.  \n",
    "  BoW offered strong baseline features, while embeddings provided dense semantic information but required more complex models to perform well.  \n",
    "\n",
    "- **Task 3, Question 1:**  \n",
    "  - **BoW** was the most effective representation overall, with **Multinomial Naive Bayes** achieving the top F1 (≈0.923) and ROC-AUC (≈0.900).  \n",
    "  - Embeddings performed reasonably with non-linear models (MLP), but did not surpass BoW methods.  \n",
    "  - Class weighting proved sufficient for handling imbalance; SMOTE offered only minor gains.  \n",
    "\n",
    "- **Task 3, Question 2:**  \n",
    "  - Adding **Title** improved performance across all representations.  \n",
    "  - The best model was **BoW + Title+Text with Naive Bayes**, reaching **F1 ≈ 0.931**.  \n",
    "  - Title alone was weaker than Text, but in combination, it provided clear value.  \n",
    "  - Embedding models with MLP also benefited from Title, though they still trailed behind BoW approaches.  \n",
    "\n",
    "**Final takeaway:**  \n",
    "The simplest representation — **BoW combined with review Title and Text** — consistently outperformed more complex embedding-based methods.  \n",
    "This highlights how, in practice, well-preprocessed BoW features with the right model can be highly effective for text classification tasks, even compared to modern embeddings."
   ]
  }
 ],
 "metadata": {
  "kernelspec": {
   "display_name": "Python 3 (ipykernel)",
   "language": "python",
   "name": "python3"
  },
  "language_info": {
   "codemirror_mode": {
    "name": "ipython",
    "version": 3
   },
   "file_extension": ".py",
   "mimetype": "text/x-python",
   "name": "python",
   "nbconvert_exporter": "python",
   "pygments_lexer": "ipython3",
   "version": "3.11.5"
  }
 },
 "nbformat": 4,
 "nbformat_minor": 4
}
